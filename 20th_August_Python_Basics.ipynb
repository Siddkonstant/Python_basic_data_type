{
 "cells": [
  {
   "cell_type": "markdown",
   "id": "96856985-1b45-4acd-943e-a134b2049b7f",
   "metadata": {},
   "source": [
    "TOPIC: String Based Assignment Problem"
   ]
  },
  {
   "cell_type": "markdown",
   "id": "06657db3-87c9-433e-b820-5b0acc5a0873",
   "metadata": {},
   "source": [
    "1. Write a program to reverse a string."
   ]
  },
  {
   "cell_type": "code",
   "execution_count": 8,
   "id": "ccad04aa-c13a-4366-b12c-7a2f14b2ea61",
   "metadata": {},
   "outputs": [
    {
     "name": "stdout",
     "output_type": "stream",
     "text": [
      "!dlroW ,olleH\n"
     ]
    }
   ],
   "source": [
    "def reversed_string(input_string):\n",
    "    reversed_string = \"\"\n",
    "    for char in input_string:\n",
    "        reversed_string = char + reversed_string\n",
    "    return reversed_string   \n",
    "input_str = \"Hello, World!\"\n",
    "reversed_str = reversed_string(input_string)\n",
    "print(reversed_str)"
   ]
  },
  {
   "cell_type": "markdown",
   "id": "eeaf7d69-ddb4-4333-828f-82ff1c2f56c5",
   "metadata": {},
   "source": [
    "2. Check if a string is a palindrome."
   ]
  },
  {
   "cell_type": "code",
   "execution_count": 17,
   "id": "5ba55466-880d-4afa-a04a-67c808b5fb37",
   "metadata": {},
   "outputs": [
    {
     "name": "stdout",
     "output_type": "stream",
     "text": [
      "True\n",
      "False\n"
     ]
    }
   ],
   "source": [
    "def is_palindrome(s):\n",
    "    S = s.lower()\n",
    "    S = ''.join(e for e in S if e.isalnum())\n",
    "    return S == S[::-1]\n",
    "\n",
    "print(is_palindrome(\"racecar\"))\n",
    "print(is_palindrome(\"mouse\"))"
   ]
  },
  {
   "cell_type": "markdown",
   "id": "a6f056ee-1c85-4398-b8d6-275cad0eae13",
   "metadata": {},
   "source": [
    "3. Convert a string to uppercase."
   ]
  },
  {
   "cell_type": "code",
   "execution_count": 19,
   "id": "ed480e69-aa08-404a-8b2b-3fb374962b9c",
   "metadata": {},
   "outputs": [
    {
     "name": "stdin",
     "output_type": "stream",
     "text": [
      "Enter a string:  hello what are you doing\n"
     ]
    },
    {
     "name": "stdout",
     "output_type": "stream",
     "text": [
      "Uppercase string: HELLO WHAT ARE YOU DOING\n"
     ]
    }
   ],
   "source": [
    "input_string= input(\"Enter a string: \")\n",
    "uppercase = input_string.upper()\n",
    "print(\"Uppercase string:\", uppercase)"
   ]
  },
  {
   "cell_type": "markdown",
   "id": "95c93636-424e-4713-83ee-f7071f88ba5e",
   "metadata": {},
   "source": [
    "4. Convert a string to lowercase."
   ]
  },
  {
   "cell_type": "code",
   "execution_count": 23,
   "id": "857e9577-5586-4f10-88e9-1d2798c7bcc7",
   "metadata": {},
   "outputs": [
    {
     "name": "stdin",
     "output_type": "stream",
     "text": [
      "Enter a string:  hELLO HOW ARE YOU DOING\n"
     ]
    },
    {
     "name": "stdout",
     "output_type": "stream",
     "text": [
      "Lowercase string: hello how are you doing\n"
     ]
    }
   ],
   "source": [
    "input_string = input(\"Enter a string: \")\n",
    "Lowercase = input_string.lower()\n",
    "print(\"Lowercase string:\", Lowercase)"
   ]
  },
  {
   "cell_type": "markdown",
   "id": "7539ed0b-7515-4825-986f-4a60858fd744",
   "metadata": {},
   "source": [
    "5. Count the number of vowels in a string."
   ]
  },
  {
   "cell_type": "code",
   "execution_count": 26,
   "id": "5ccf9408-f0ab-4e6f-b044-b49712a9db63",
   "metadata": {},
   "outputs": [
    {
     "name": "stdout",
     "output_type": "stream",
     "text": [
      "Number of vowels: 11\n"
     ]
    }
   ],
   "source": [
    "def count_vowels(string):\n",
    "    vowel_count = 0\n",
    "    string = string.lower()\n",
    "    vowels = set(\"aeiou\")\n",
    "    for char in string:\n",
    "        if char in vowels:\n",
    "            vowel_count += 1\n",
    "    return vowel_count \n",
    "input_string = \"Hello, how are you everyone?\"\n",
    "result = count_vowels(input_string)\n",
    "print(\"Number of vowels:\", result)"
   ]
  },
  {
   "cell_type": "markdown",
   "id": "d1c600c0-199f-403b-8f25-854241595fb6",
   "metadata": {},
   "source": [
    "6. Count the number of consonants in a string."
   ]
  },
  {
   "cell_type": "code",
   "execution_count": 31,
   "id": "08dca335-ad52-4b35-81de-7d8f24098e1d",
   "metadata": {},
   "outputs": [
    {
     "name": "stdin",
     "output_type": "stream",
     "text": [
      "Enter a string:  DSM Pro\n"
     ]
    },
    {
     "name": "stdout",
     "output_type": "stream",
     "text": [
      "Number of consonants: 5\n"
     ]
    }
   ],
   "source": [
    "def count_con(string):\n",
    "    con_count = 0\n",
    "    con = \"bcdfghjklmnpqrstvwxyzBCDFGHJKLMNPQRSTVWXYZ\"\n",
    "    for char in string:\n",
    "        if char in con:\n",
    "            con_count += 1\n",
    "    return con_count\n",
    "\n",
    "input_string = input(\"Enter a string: \")\n",
    "result = count_con(input_string)\n",
    "print(\"Number of consonants:\", result)"
   ]
  },
  {
   "cell_type": "markdown",
   "id": "38717596-2c30-40eb-8713-6ec46a06d6fb",
   "metadata": {},
   "source": [
    "7. Remove all whitespaces from a string."
   ]
  },
  {
   "cell_type": "code",
   "execution_count": 35,
   "id": "b80ad864-14bb-4514-af08-4ae257fc1d44",
   "metadata": {},
   "outputs": [
    {
     "name": "stdout",
     "output_type": "stream",
     "text": [
      "HelloWorld!Howitis?\n"
     ]
    }
   ],
   "source": [
    "def remove_whitespace(input_string):\n",
    "    result = \"\"\n",
    "    for char in input_string:\n",
    "        if char != \" \":\n",
    "            result += char\n",
    "    return result\n",
    "\n",
    "\n",
    "input_string = \"Hello World!   How    it is ?\"\n",
    "output_string = remove_whitespace(input_string)\n",
    "print(output_string)"
   ]
  },
  {
   "cell_type": "markdown",
   "id": "81a3a9e8-4a1c-498d-b097-ec50f47034a8",
   "metadata": {},
   "source": [
    "8. Find the length of a string without using the `len()` function."
   ]
  },
  {
   "cell_type": "code",
   "execution_count": 56,
   "id": "109806a4-effa-4b38-8710-ca0f062d40d3",
   "metadata": {},
   "outputs": [
    {
     "name": "stdin",
     "output_type": "stream",
     "text": [
      "Enter a string:  hello\n"
     ]
    },
    {
     "name": "stdout",
     "output_type": "stream",
     "text": [
      "5\n"
     ]
    }
   ],
   "source": [
    "string = input (\"Enter a string:\")\n",
    "count = 0\n",
    "for letter in string:\n",
    "        count = count+1\n",
    "print(count)        \n"
   ]
  },
  {
   "cell_type": "markdown",
   "id": "c3c98833-d4f2-4733-bd27-5ea3ae843759",
   "metadata": {},
   "source": [
    "9. Check if a string contains a specific word."
   ]
  },
  {
   "cell_type": "code",
   "execution_count": 59,
   "id": "78c45e70-b3eb-4acc-bd07-9da3c2b4b1c6",
   "metadata": {},
   "outputs": [
    {
     "name": "stdin",
     "output_type": "stream",
     "text": [
      "Enter a string:   my class name is Siddhant Kumar class\n",
      "Enter the specific word to check for:  Kumar\n"
     ]
    },
    {
     "name": "stdout",
     "output_type": "stream",
     "text": [
      "The string contains the word Kumar .\n"
     ]
    }
   ],
   "source": [
    "input_string = input(\"Enter a string: \")\n",
    "specific_word = input(\"Enter the specific word to check for: \")\n",
    "if specific_word in input_string:\n",
    "    print(f\"The string contains the word {specific_word}.\")\n",
    "else:\n",
    "    print(f\"The string does not contain the word {specific_word}.\")"
   ]
  },
  {
   "cell_type": "markdown",
   "id": "2ebb929b-4abe-4681-8b37-36fab2f463f1",
   "metadata": {},
   "source": [
    "10. Replace a word in a string with another word."
   ]
  },
  {
   "cell_type": "code",
   "execution_count": 61,
   "id": "b21bfddc-2252-4caf-9c01-fbe1b85ff6e4",
   "metadata": {},
   "outputs": [
    {
     "name": "stdin",
     "output_type": "stream",
     "text": [
      "Enter a string:  hello world\n",
      "Enter the word to be replaced:  world\n",
      "Enter the new word:  everyone\n"
     ]
    },
    {
     "name": "stdout",
     "output_type": "stream",
     "text": [
      "modified string: hello everyone\n"
     ]
    }
   ],
   "source": [
    "input_string = input(\"Enter a string: \")\n",
    "old_word = input(\"Enter the word to be replaced: \")\n",
    "new_word = input(\"Enter the new word: \")\n",
    "mod_string = input_string.replace(old_word,new_word)\n",
    "print(\"modified string:\" , mod_string)"
   ]
  },
  {
   "cell_type": "markdown",
   "id": "a947ff4e-08df-46b8-9350-338e43068fb9",
   "metadata": {},
   "source": [
    "11. Count the occurrences of a word in a string."
   ]
  },
  {
   "cell_type": "code",
   "execution_count": 74,
   "id": "cc477e1f-e276-4321-a995-6d5580bd5bc1",
   "metadata": {},
   "outputs": [
    {
     "name": "stdout",
     "output_type": "stream",
     "text": [
      "The word 'sample' appears 1 times in the input string.\n"
     ]
    }
   ],
   "source": [
    "def count_word_occurrences(input_string, target_word):\n",
    "    word_count = 0\n",
    "    words = input_string.split()\n",
    "    for word in words:\n",
    "        if word == target_word:\n",
    "            word_count += 1\n",
    "    return word_count\n",
    "input_string = \"This is a sample sentence. This sentence contains the word 'sample' multiple times.\"\n",
    "target_word = \"sample\"\n",
    "result = count_word_occurrences(input_string, target_word)\n",
    "print(f\"The word '{target_word}' appears {result} times in the input string.\")"
   ]
  },
  {
   "cell_type": "markdown",
   "id": "e27ad46c-7188-4aeb-a214-953138a58002",
   "metadata": {},
   "source": [
    "12. Find the first occurrence of a word in a string."
   ]
  },
  {
   "cell_type": "code",
   "execution_count": 80,
   "id": "e66a4bad-76e1-4fc7-a671-034966b5be61",
   "metadata": {},
   "outputs": [
    {
     "name": "stdout",
     "output_type": "stream",
     "text": [
      "Index of the first occurrance: 19\n"
     ]
    }
   ],
   "source": [
    "def find_first_occurrance(text, word):\n",
    "    index = text.find(word)\n",
    "    if index == -1:\n",
    "        return none\n",
    "    return index\n",
    "text = \"This is an example sentence. This sentence contains the word example.\"\n",
    "word = \"sentence\"\n",
    "result = find_first_occurrance(text, word)\n",
    "print(\"Index of the first occurrance:\",result)\n",
    "       "
   ]
  },
  {
   "cell_type": "markdown",
   "id": "966c7b43-adf2-49e5-a2a4-2e9ddcdaad6d",
   "metadata": {},
   "source": [
    "13. Find the last occurrence of a word in a string."
   ]
  },
  {
   "cell_type": "code",
   "execution_count": 81,
   "id": "81923245-c1a9-40d6-8606-f77fbfb4882c",
   "metadata": {},
   "outputs": [
    {
     "name": "stdout",
     "output_type": "stream",
     "text": [
      "Index of the last occurrance: 66\n"
     ]
    }
   ],
   "source": [
    "def find_last_occurrance(text, word):\n",
    "    index = text.rfind(word)\n",
    "    if index == -1:\n",
    "        return none\n",
    "    return index\n",
    "text = \"This is an example sentence. This sentence also contains the word example.\"\n",
    "word= \"example\"\n",
    "result = find_last_occurrance(text,word)\n",
    "print(\"Index of the last occurrance:\", result)"
   ]
  },
  {
   "cell_type": "markdown",
   "id": "c2136829-ffd9-4652-89b7-ae43aee8342f",
   "metadata": {},
   "source": [
    "14. Split a string into a list of words."
   ]
  },
  {
   "cell_type": "code",
   "execution_count": 82,
   "id": "41216c01-d73b-4dce-b51b-3579fc1b13e5",
   "metadata": {},
   "outputs": [
    {
     "name": "stdout",
     "output_type": "stream",
     "text": [
      "List of words: ['This', 'is', 'an', 'example', 'sentence.']\n"
     ]
    }
   ],
   "source": [
    "def split_string_into_words(text):\n",
    "    words_list = text.split()\n",
    "    return words_list\n",
    "text = \"This is an example sentence.\"\n",
    "words = split_string_into_words(text)\n",
    "print(\"List of words:\",words)"
   ]
  },
  {
   "cell_type": "markdown",
   "id": "510e5c6c-3892-4ef0-aeaf-0e8179b0f204",
   "metadata": {},
   "source": [
    "15. Join a list of words into a string."
   ]
  },
  {
   "cell_type": "code",
   "execution_count": 83,
   "id": "58b7f684-8151-46a2-8738-1892d279ec45",
   "metadata": {},
   "outputs": [
    {
     "name": "stdout",
     "output_type": "stream",
     "text": [
      "joined string: This is an example sentence.\n"
     ]
    }
   ],
   "source": [
    "def join_words_into_string(words_lists):\n",
    "    joined_string = \" \".join(words_lists)\n",
    "    return joined_string\n",
    "words = [\"This\", \"is\" , \"an\" , \"example\", \"sentence.\"]\n",
    "text = join_words_into_string(words)\n",
    "print(\"joined string:\",text)"
   ]
  },
  {
   "cell_type": "markdown",
   "id": "176afdcf-958e-40b5-9255-6c512d7b0ac2",
   "metadata": {},
   "source": [
    "16. Convert a string where words are separated by spaces to one where words\n",
    "are separated by underscores."
   ]
  },
  {
   "cell_type": "code",
   "execution_count": 4,
   "id": "d9d2b60d-263c-474b-963e-e39f9f05a5b7",
   "metadata": {},
   "outputs": [
    {
     "name": "stdout",
     "output_type": "stream",
     "text": [
      "converted text: this_is_an_example_sentence.\n"
     ]
    }
   ],
   "source": [
    "def convert_to_underscore_sep(text):\n",
    "    underscore_seperated = text.replace(\" \",\"_\")\n",
    "    return underscore_seperated\n",
    "text = \"this is an example sentence.\"\n",
    "converted_tex = convert_to_underscore_sep(text)\n",
    "print(\"converted text:\", converted_tex)"
   ]
  },
  {
   "cell_type": "markdown",
   "id": "9546e747-ea99-4a35-a5e3-402a71a25e2e",
   "metadata": {},
   "source": [
    "17. Check if a string starts with a specific word or phrase."
   ]
  },
  {
   "cell_type": "code",
   "execution_count": 11,
   "id": "7b34a1ad-0050-45ee-a58c-992849aad935",
   "metadata": {},
   "outputs": [
    {
     "name": "stdout",
     "output_type": "stream",
     "text": [
      "The text does not start with prefix.\n"
     ]
    }
   ],
   "source": [
    "def starts_with(text, prefix):\n",
    "    is_start = text.startswith(prefix)\n",
    "    return is_start\n",
    "text = \"Hello, World!\"\n",
    "prefix = \"l\"\n",
    "result = starts_with(text, prefix)\n",
    "if result:\n",
    "    print(\"The text start with the prefix.\")\n",
    "else:\n",
    "    print(\"The text does not start with prefix.\")"
   ]
  },
  {
   "cell_type": "markdown",
   "id": "a3cc34e2-095a-4761-a9eb-5f7fc4a75390",
   "metadata": {},
   "source": [
    "18. Check if a string ends with a specific word or phrase."
   ]
  },
  {
   "cell_type": "code",
   "execution_count": 14,
   "id": "a062e284-67e2-45bd-a9a8-d397638de0df",
   "metadata": {},
   "outputs": [
    {
     "name": "stdout",
     "output_type": "stream",
     "text": [
      "The text ends with the suffix.\n"
     ]
    }
   ],
   "source": [
    "def ends_with(text, suffix):\n",
    "    is_end = text.endswith(suffix)\n",
    "    return is_end\n",
    "text = \"Hello, World!\"\n",
    "suffix = \"World!\"\n",
    "result = ends_with(text, suffix)\n",
    "if result:\n",
    "    print(\"The text ends with the suffix.\")\n",
    "else:\n",
    "    print(\"The text does not end with suffix\")"
   ]
  },
  {
   "cell_type": "markdown",
   "id": "58831627-0afe-46e6-bf2a-a2081c773a84",
   "metadata": {},
   "source": [
    "19. Convert a string to title case (e.g., \"hello world\" to \"Hello World\")."
   ]
  },
  {
   "cell_type": "code",
   "execution_count": 17,
   "id": "8b039790-6a3e-441b-8eca-ce662c31ab2b",
   "metadata": {},
   "outputs": [
    {
     "name": "stdout",
     "output_type": "stream",
     "text": [
      "Title case: Hello! World\n"
     ]
    }
   ],
   "source": [
    "def convert_to_title_case(text):\n",
    "    title_case_text = text.title()\n",
    "    return title_case_text\n",
    "text = \"hello! world\"\n",
    "title_case = convert_to_title_case(text)\n",
    "print(\"Title case:\", title_case)\n"
   ]
  },
  {
   "cell_type": "code",
   "execution_count": 25,
   "id": "e0d5d063-bccc-4cdb-a895-7f0c2af41cc0",
   "metadata": {},
   "outputs": [
    {
     "name": "stdin",
     "output_type": "stream",
     "text": [
      " sid kum pw skill\n"
     ]
    },
    {
     "name": "stdout",
     "output_type": "stream",
     "text": [
      "Sid Kum Pw Skill\n"
     ]
    }
   ],
   "source": [
    "a=input()\n",
    "b = a.title()\n",
    "print(b)"
   ]
  },
  {
   "cell_type": "markdown",
   "id": "ee58e11c-2fea-4929-a72d-a3fbd21d190c",
   "metadata": {},
   "source": [
    "20. Find the longest word in a string."
   ]
  },
  {
   "cell_type": "code",
   "execution_count": 28,
   "id": "4741ee78-9b5c-4dff-8668-5331b194048d",
   "metadata": {},
   "outputs": [
    {
     "name": "stdout",
     "output_type": "stream",
     "text": [
      "Longest Word: aaaaaaaaaaaaalong\n"
     ]
    }
   ],
   "source": [
    "def find_longest_word(text):\n",
    "    words = text.split()\n",
    "    longest_word = \"\"\n",
    "    max_length = 0\n",
    "    for word in words:\n",
    "        if len(word) > max_length:\n",
    "            max_length = len(word)\n",
    "            longest_word = word\n",
    "    return longest_word\n",
    "\n",
    "text = \"This is example sentence with some aaaaaaaaaaaaalong words.\"\n",
    "longest_word = find_longest_word(text)\n",
    "print(\"Longest Word:\",longest_word)"
   ]
  },
  {
   "cell_type": "markdown",
   "id": "339e0536-e3bf-49fa-b4a8-c6bd4d2b59ff",
   "metadata": {},
   "source": [
    "21. Find the shortest word in a string."
   ]
  },
  {
   "cell_type": "code",
   "execution_count": 37,
   "id": "8863f371-d28f-4f57-aa24-5ca767380bc7",
   "metadata": {},
   "outputs": [
    {
     "name": "stdout",
     "output_type": "stream",
     "text": [
      "Shortest word: an\n"
     ]
    }
   ],
   "source": [
    "def shortest_word(text):\n",
    "    words = text.split()\n",
    "    shortest_word = None\n",
    "    min_length = float('inf')\n",
    "    for word in words:\n",
    "        if len(word) < min_length:\n",
    "            min_length = len(word)\n",
    "            shortest_word = word\n",
    "    return shortest_word\n",
    "text = \"This iss an example text\"\n",
    "print(\"Shortest word:\", shortest_word(text))"
   ]
  },
  {
   "cell_type": "markdown",
   "id": "58fc10f7-ff75-4e69-98a5-ac21d58c863d",
   "metadata": {},
   "source": [
    "22. Reverse the order of words in a string."
   ]
  },
  {
   "cell_type": "code",
   "execution_count": 38,
   "id": "524ebe18-1003-4104-9c81-337d8748511f",
   "metadata": {},
   "outputs": [
    {
     "name": "stdout",
     "output_type": "stream",
     "text": [
      "Reverse string: gnirts ni sdrow fo redro eht esreveR\n"
     ]
    }
   ],
   "source": [
    "def string(a):\n",
    "    return a [::-1]\n",
    "b = string(\"Reverse the order of words in string\")\n",
    "print(\"Reverse string:\", b)"
   ]
  },
  {
   "cell_type": "markdown",
   "id": "656d2e6d-2e06-4c49-b511-8725880e0457",
   "metadata": {},
   "source": [
    "23. Check if a string is alphanumeric."
   ]
  },
  {
   "cell_type": "code",
   "execution_count": 39,
   "id": "bf88847d-7bc3-4ece-a5d6-62c9a4e54232",
   "metadata": {},
   "outputs": [
    {
     "name": "stdout",
     "output_type": "stream",
     "text": [
      "The string is alphanumeric\n"
     ]
    }
   ],
   "source": [
    "def is_alphanumeric(text):\n",
    "    return text.isalnum()\n",
    "text = \"Hello123\"\n",
    "result = is_alphanumeric(text)\n",
    "if result:\n",
    "    print(\"The string is alphanumeric\")\n",
    "else:\n",
    "    print(\"The string is not alphanumeric\")"
   ]
  },
  {
   "cell_type": "markdown",
   "id": "65804bfe-17a2-4299-a367-f57be324a0ba",
   "metadata": {},
   "source": [
    "24. Extract all digits from a string."
   ]
  },
  {
   "cell_type": "code",
   "execution_count": 43,
   "id": "ab8f0017-1756-4671-bb8b-52b41a1a865b",
   "metadata": {},
   "outputs": [
    {
     "name": "stdout",
     "output_type": "stream",
     "text": [
      "Extracted digits: 123456\n"
     ]
    }
   ],
   "source": [
    "def extract_digit(text):\n",
    "    digits = \"\"\n",
    "    for char in text:\n",
    "        if char.isdigit():\n",
    "            digits += char\n",
    "    return digits\n",
    "text = \"Hello123world456\"\n",
    "ext_dig = extract_digit(text)\n",
    "print(\"Extracted digits:\", ext_dig)"
   ]
  },
  {
   "cell_type": "markdown",
   "id": "40df91e0-2309-43af-94db-4c009ec7a49a",
   "metadata": {},
   "source": [
    "25. Extract all alphabets from a string."
   ]
  },
  {
   "cell_type": "code",
   "execution_count": 44,
   "id": "a1824898-c398-4b8f-bd8f-444f4d59f6d5",
   "metadata": {},
   "outputs": [
    {
     "name": "stdout",
     "output_type": "stream",
     "text": [
      "H e l l o w o r d\n"
     ]
    }
   ],
   "source": [
    "def extract_alphaa(input_string):\n",
    "    alphabets = ' '.join([char for char in input_string if char.isalpha()])\n",
    "    return alphabets\n",
    "input_string = \"Hello123word456\"\n",
    "result = extract_alphaa(input_string)\n",
    "print(result)"
   ]
  },
  {
   "cell_type": "markdown",
   "id": "dab1cc1f-16c7-4901-8e23-399bfdcb5775",
   "metadata": {},
   "source": [
    "26. Count the number of uppercase letters in a string."
   ]
  },
  {
   "cell_type": "code",
   "execution_count": 45,
   "id": "a25042aa-009a-4dbf-857c-6453719d6ef0",
   "metadata": {},
   "outputs": [
    {
     "name": "stdout",
     "output_type": "stream",
     "text": [
      "4\n"
     ]
    }
   ],
   "source": [
    "def count_uppercase(input_string):\n",
    "    uppercase_count = sum(1 for char in input_string if char.isupper())\n",
    "    return uppercase_count\n",
    "input_string = \"HelloWOrlD\"\n",
    "result = count_uppercase(input_string)\n",
    "print(result)"
   ]
  },
  {
   "cell_type": "markdown",
   "id": "79f059f7-5f6e-48d4-aa4a-6fcdc741cf2f",
   "metadata": {},
   "source": [
    "27. Count the number of lowercase letters in a string."
   ]
  },
  {
   "cell_type": "code",
   "execution_count": 46,
   "id": "19dc9cdb-c3a4-41f7-8614-e69a1cda07bd",
   "metadata": {},
   "outputs": [
    {
     "name": "stdout",
     "output_type": "stream",
     "text": [
      "7\n"
     ]
    }
   ],
   "source": [
    "def count_lowercase(input_string):\n",
    "    lowercase_count = sum(1 for char in input_string if char.islower())\n",
    "    return lowercase_count\n",
    "input_string = \"HelloWOrld\"\n",
    "result = count_lowercase(input_string)\n",
    "print(result)\n",
    "\n",
    "    "
   ]
  },
  {
   "cell_type": "markdown",
   "id": "b04d72f3-6f57-47fb-a5c0-46b55c935a64",
   "metadata": {},
   "source": [
    "28. Swap the case of each character in a string."
   ]
  },
  {
   "cell_type": "code",
   "execution_count": 47,
   "id": "82df9eba-6210-4bf0-9d9b-2a7af686d85d",
   "metadata": {},
   "outputs": [
    {
     "name": "stdout",
     "output_type": "stream",
     "text": [
      "hELLOworlD\n"
     ]
    }
   ],
   "source": [
    "def swap_case(input_string):\n",
    "    swapped_string = input_string.swapcase()\n",
    "    return swapped_string\n",
    "\n",
    "input_string = \"HelloWORLd\"\n",
    "result = swap_case(input_string)\n",
    "print(result)"
   ]
  },
  {
   "cell_type": "markdown",
   "id": "daa6b49a-f159-41f6-b6cf-25fe409dfe99",
   "metadata": {},
   "source": [
    "29. Remove a specific word from a string."
   ]
  },
  {
   "cell_type": "code",
   "execution_count": 49,
   "id": "b2809054-309e-440a-9d1a-4bed53ea9026",
   "metadata": {},
   "outputs": [
    {
     "name": "stdout",
     "output_type": "stream",
     "text": [
      "Hello world, welcome to the of programming.\n"
     ]
    }
   ],
   "source": [
    "def remove_word(input_string, word_to_remove):\n",
    "    words = input_string.split()\n",
    "    filtered_words = [word for word in words if word != word_to_remove]\n",
    "    modified_string = ' '.join(filtered_words)\n",
    "    return modified_string\n",
    "input_string = \"Hello world, welcome to the world of programming.\"\n",
    "word_to_remove = \"world\"\n",
    "result = remove_word(input_string, word_to_remove)\n",
    "print(result)"
   ]
  },
  {
   "cell_type": "markdown",
   "id": "3aab1f92-8b5f-4aed-88ec-8feff90cd2b1",
   "metadata": {},
   "source": [
    "30. Check if a string is a valid email address."
   ]
  },
  {
   "cell_type": "code",
   "execution_count": 50,
   "id": "5cd0f601-7f39-4eef-9721-b8536a0a29e1",
   "metadata": {},
   "outputs": [
    {
     "name": "stdout",
     "output_type": "stream",
     "text": [
      "True\n",
      "False\n"
     ]
    }
   ],
   "source": [
    "import re\n",
    "def is_valid_email(email):\n",
    "    pattern = r'^[\\w\\.-]+@[\\w\\.-]+\\.\\w+$'\n",
    "    if re.match(pattern, email):\n",
    "        return True\n",
    "    else:\n",
    "        return False\n",
    "email1 = \"example@email.com\"\n",
    "email2 = \"invalid-email\"\n",
    "result1 = is_valid_email(email1)\n",
    "result2 = is_valid_email(email2)\n",
    "print(result1)\n",
    "print(result2)\n"
   ]
  },
  {
   "cell_type": "markdown",
   "id": "843dacc9-c88c-41ae-b8f4-1055e5abf77a",
   "metadata": {},
   "source": [
    "31. Extract the username from an email address string."
   ]
  },
  {
   "cell_type": "code",
   "execution_count": 51,
   "id": "853b0c92-224a-4a0c-afa5-39185bea2550",
   "metadata": {},
   "outputs": [
    {
     "name": "stdout",
     "output_type": "stream",
     "text": [
      "example\n"
     ]
    }
   ],
   "source": [
    "def extract_username(email):\n",
    "    username = email.split('@')[0]\n",
    "    return username\n",
    "\n",
    "email = \"example@email.com\"\n",
    "result = extract_username(email)\n",
    "print(result)"
   ]
  },
  {
   "cell_type": "markdown",
   "id": "cc206020-ce0c-4ca1-9cf9-100755bc241c",
   "metadata": {},
   "source": [
    "32. Extract the domain name from an email address string."
   ]
  },
  {
   "cell_type": "code",
   "execution_count": 53,
   "id": "3ba3fbf3-fca6-4f2d-a300-9e8c9ece873a",
   "metadata": {},
   "outputs": [
    {
     "name": "stdout",
     "output_type": "stream",
     "text": [
      "email.com\n"
     ]
    }
   ],
   "source": [
    "def extract_domain(email):\n",
    "    domain = email.split('@')[1]\n",
    "    return domain\n",
    "email = \"example@email.com\"\n",
    "result = extract_domain(email)\n",
    "print(result)"
   ]
  },
  {
   "cell_type": "markdown",
   "id": "38fb4582-470e-4044-83eb-d797f87c25bc",
   "metadata": {},
   "source": [
    "33. Replace multiple spaces in a string with a single space."
   ]
  },
  {
   "cell_type": "code",
   "execution_count": 1,
   "id": "464796ea-27cf-48d8-889c-b4fc4ecb4708",
   "metadata": {},
   "outputs": [
    {
     "name": "stdout",
     "output_type": "stream",
     "text": [
      "Hello world! how are you doing?\n"
     ]
    }
   ],
   "source": [
    "def replace_multiple_spaces(input_string):\n",
    "    cleaned_string = ' '.join(input_string.split())\n",
    "    return cleaned_string\n",
    "input_string = \"Hello     world!   how    are     you    doing?\"\n",
    "result = replace_multiple_spaces(input_string)\n",
    "print(result)"
   ]
  },
  {
   "cell_type": "markdown",
   "id": "c1e1ffa4-adc2-4acf-a44a-67b8ecc785a4",
   "metadata": {},
   "source": [
    "34. Check if a string is a valid URL."
   ]
  },
  {
   "cell_type": "code",
   "execution_count": 2,
   "id": "c96e7231-0a91-4790-9973-ce6596d70b76",
   "metadata": {},
   "outputs": [
    {
     "name": "stdout",
     "output_type": "stream",
     "text": [
      "True\n",
      "False\n"
     ]
    }
   ],
   "source": [
    "from urllib.parse import urlparse\n",
    "def is_valid_url(url):\n",
    "    try:\n",
    "        result= urlparse(url)\n",
    "        return all([result.scheme, result.netloc])\n",
    "    except ValueError:\n",
    "        return False\n",
    "    \n",
    "url1 = \"https://www.example.com\"\n",
    "url2 = \"invalid-url\"\n",
    "result1 = is_valid_url(url1)\n",
    "result2 = is_valid_url(url2)\n",
    "print(result1)  \n",
    "print(result2)    "
   ]
  },
  {
   "cell_type": "markdown",
   "id": "3099e61d-b7f7-4487-b597-a78fe1bc3fca",
   "metadata": {},
   "source": [
    "35. Extract the protocol (http or https) from a URL string."
   ]
  },
  {
   "cell_type": "code",
   "execution_count": 3,
   "id": "e26b0e49-172c-469b-a4dc-83e788dd096e",
   "metadata": {},
   "outputs": [
    {
     "name": "stdout",
     "output_type": "stream",
     "text": [
      "Protocol 1: https\n",
      "Protocol 2: http\n",
      "Protocol 3: ftp\n"
     ]
    }
   ],
   "source": [
    "def extract_protocol(url):\n",
    "    protocol_end = url.find(\"://\")\n",
    "    if protocol_end != -1:\n",
    "        protocol= url[:protocol_end]\n",
    "        return protocol\n",
    "    else:\n",
    "        return None\n",
    "    \n",
    "url1 = \"https://www.example.com\"\n",
    "url2 = \"http://google.com\"\n",
    "url3 = \"ftp://ftp.example.com\"\n",
    "\n",
    "protocol1 = extract_protocol(url1)\n",
    "protocol2 = extract_protocol(url2)\n",
    "protocol3 = extract_protocol(url3)\n",
    "        \n",
    "print(\"Protocol 1:\", protocol1)\n",
    "print(\"Protocol 2:\", protocol2)\n",
    "print(\"Protocol 3:\", protocol3)    "
   ]
  },
  {
   "cell_type": "markdown",
   "id": "dfe87188-e20d-4405-bc5c-0f0ec601f2f0",
   "metadata": {},
   "source": [
    "36. Find the frequency of each character in a string."
   ]
  },
  {
   "cell_type": "code",
   "execution_count": 4,
   "id": "f5df7dd8-9914-4430-8652-eb40106b3f13",
   "metadata": {},
   "outputs": [
    {
     "name": "stdout",
     "output_type": "stream",
     "text": [
      "character: 'H',Frequency;1\n",
      "character: 'e',Frequency;1\n",
      "character: 'l',Frequency;3\n",
      "character: 'o',Frequency;2\n",
      "character: ' ',Frequency;1\n",
      "character: 'W',Frequency;1\n",
      "character: 'r',Frequency;1\n",
      "character: 'd',Frequency;1\n"
     ]
    }
   ],
   "source": [
    "def character_frequency(input_string):\n",
    "    frequency = {}\n",
    "    \n",
    "    for char in input_string:\n",
    "        if char in frequency:\n",
    "            frequency[char] += 1 \n",
    "        else:\n",
    "            frequency[char] = 1\n",
    "    return frequency\n",
    "input_str =\"Hello World\"\n",
    "char_freq = character_frequency(input_str)\n",
    "for char, freq in char_freq.items():\n",
    "    print(f\"character: '{char}',Frequency;{freq}\")\n",
    "\n",
    "            "
   ]
  },
  {
   "cell_type": "markdown",
   "id": "82eec0b7-77c1-4f16-a176-200b10b84de7",
   "metadata": {},
   "source": [
    "37. Remove all punctuation from a string."
   ]
  },
  {
   "cell_type": "code",
   "execution_count": 7,
   "id": "2a17527b-78e2-4dfc-b4af-fbc06258e2e1",
   "metadata": {},
   "outputs": [
    {
     "name": "stdout",
     "output_type": "stream",
     "text": [
      "Original string: Hello, world! How's it going?\n",
      "Cleaned string: Hello world Hows it going\n"
     ]
    }
   ],
   "source": [
    "import string\n",
    "\n",
    "def remove_punctuation(input_string):\n",
    "    translator = str.maketrans(\"\", \"\", string.punctuation)\n",
    "    clean_string = input_string.translate(translator)\n",
    "    return clean_string\n",
    "\n",
    "input_str = \"Hello, world! How's it going?\"\n",
    "cleaned_str = remove_punctuation(input_str)\n",
    "print(\"Original string:\", input_str)\n",
    "print(\"Cleaned string:\", cleaned_str)"
   ]
  },
  {
   "cell_type": "markdown",
   "id": "3719b051-3f51-4bd3-8fa8-edbe134f921d",
   "metadata": {},
   "source": [
    "38. Check if a string contains only digits."
   ]
  },
  {
   "cell_type": "code",
   "execution_count": 8,
   "id": "da84f7f3-80d3-46a6-9acc-3ca5d6b73ef4",
   "metadata": {},
   "outputs": [
    {
     "name": "stdout",
     "output_type": "stream",
     "text": [
      "'12345' contains only digits: True\n",
      "'Hello123' contains only digits: False\n",
      "'456.789' contains only digits: False\n"
     ]
    }
   ],
   "source": [
    "def contains_only_digits(input_string):\n",
    "    return input_string.isdigit()\n",
    "\n",
    "string1 = \"12345\"\n",
    "string2 = \"Hello123\"\n",
    "string3 = \"456.789\"\n",
    "\n",
    "result1 = contains_only_digits(string1)\n",
    "result2 = contains_only_digits(string2)\n",
    "result3 = contains_only_digits(string3)\n",
    "\n",
    "print(f\"'{string1}' contains only digits:\", result1)\n",
    "print(f\"'{string2}' contains only digits:\", result2)\n",
    "print(f\"'{string3}' contains only digits:\", result3)"
   ]
  },
  {
   "cell_type": "code",
   "execution_count": 9,
   "id": "8b642a35-947d-4390-82ec-06ddd5ce4380",
   "metadata": {},
   "outputs": [
    {
     "name": "stdout",
     "output_type": "stream",
     "text": [
      "'Hello' contains only alphabets: True\n",
      "'Hello123' contains only alphabets: False\n",
      "'12345' contains only alphabets: False\n"
     ]
    }
   ],
   "source": [
    "def contains_only_alphabets(input_string):\n",
    "    return input_string.isalpha()\n",
    "\n",
    "string1 = \"Hello\"\n",
    "string2 = \"Hello123\"\n",
    "string3 = \"12345\"\n",
    "    \n",
    "result1 = contains_only_alphabets(string1)\n",
    "result2 = contains_only_alphabets(string2)\n",
    "result3 = contains_only_alphabets(string3)    \n",
    "\n",
    "print(f\"'{string1}' contains only alphabets:\", result1)\n",
    "print(f\"'{string2}' contains only alphabets:\", result2)\n",
    "print(f\"'{string3}' contains only alphabets:\", result3)"
   ]
  },
  {
   "cell_type": "markdown",
   "id": "65f3dd24-f4bb-4022-8655-f751d0e002e6",
   "metadata": {},
   "source": [
    "40. Convert a string to a list of characters."
   ]
  },
  {
   "cell_type": "code",
   "execution_count": 10,
   "id": "e95b7195-eb11-45cd-9fef-4a90346ce1d4",
   "metadata": {},
   "outputs": [
    {
     "name": "stdout",
     "output_type": "stream",
     "text": [
      "Original string: Hello, World!\n",
      "List of characters: ['H', 'e', 'l', 'l', 'o', ',', ' ', 'W', 'o', 'r', 'l', 'd', '!']\n"
     ]
    }
   ],
   "source": [
    "def string_to_list(input_string):\n",
    "    char_list = list(input_string)\n",
    "    return char_list\n",
    "\n",
    "input_str = \"Hello, World!\"\n",
    "\n",
    "char_list = string_to_list(input_str)\n",
    "\n",
    "print(\"Original string:\", input_str)\n",
    "print(\"List of characters:\", char_list)"
   ]
  },
  {
   "cell_type": "markdown",
   "id": "b7519437-6d6c-4cee-bd0b-35d22cb506b0",
   "metadata": {},
   "source": [
    "41. Check if two strings are anagrams."
   ]
  },
  {
   "cell_type": "code",
   "execution_count": 12,
   "id": "25ba58bd-1c74-4c42-91e7-c31407364706",
   "metadata": {},
   "outputs": [
    {
     "name": "stdout",
     "output_type": "stream",
     "text": [
      "'listen' and 'silent' are anagrams: True\n",
      "'hello' and 'world' are anagrams: False\n"
     ]
    }
   ],
   "source": [
    "def are_anagrams(str1, str2):\n",
    "    str1 = str1.replace(\" \", \"\").lower()\n",
    "    str2 = str2.replace(\" \", \"\").lower()\n",
    "    return sorted(str1) == sorted(str2)\n",
    "string1 = \"listen\"\n",
    "string2 = \"silent\"\n",
    "string3 = \"hello\"\n",
    "string4 = \"world\"\n",
    "\n",
    "result1 = are_anagrams(string1, string2)\n",
    "result2 = are_anagrams(string3, string4)\n",
    "\n",
    "print(f\"'{string1}' and '{string2}' are anagrams:\", result1)\n",
    "print(f\"'{string3}' and '{string4}' are anagrams:\", result2)"
   ]
  },
  {
   "cell_type": "markdown",
   "id": "680184f0-92b6-48c1-b855-cac21ae78816",
   "metadata": {},
   "source": [
    "42. Encode a string using a Caesar cipher."
   ]
  },
  {
   "cell_type": "code",
   "execution_count": 18,
   "id": "291956bd-21b7-4904-bdc8-6e89aac0ab40",
   "metadata": {},
   "outputs": [
    {
     "name": "stdout",
     "output_type": "stream",
     "text": [
      "Encoded text: ehoor, zruog!\n"
     ]
    }
   ],
   "source": [
    "def caesar_cipher(text,shift):\n",
    "    encoded_text = \"\"\n",
    "\n",
    "    for char in text:\n",
    "        if char.isalpha():\n",
    "            encoded_char = chr((ord(char) + shift - ord('a')) %26 + ord('a'))\n",
    "        else:\n",
    "            encoded_char = char\n",
    "            \n",
    "        encoded_text += encoded_char\n",
    "    return encoded_text\n",
    "text = \"Hello, world!\"\n",
    "shift = 3\n",
    "encoded_text = caesar_cipher(text, shift)\n",
    "print(\"Encoded text:\", encoded_text)"
   ]
  },
  {
   "cell_type": "markdown",
   "id": "67146db5-0c72-4776-8de9-45fc5ec85be9",
   "metadata": {},
   "source": [
    "43. Decode a Caesar cipher encoded string."
   ]
  },
  {
   "cell_type": "code",
   "execution_count": 19,
   "id": "e3aac801-c1ea-4041-b26b-dd105a2745b3",
   "metadata": {},
   "outputs": [
    {
     "name": "stdout",
     "output_type": "stream",
     "text": [
      "Decoded text: ilmm, world!\n"
     ]
    }
   ],
   "source": [
    "def caesar_cipher_decoder(text, shift):\n",
    "    decoded_text = \"\"\n",
    "    for char in text:\n",
    "        if char.isalpha():\n",
    "            decoded_char = chr((ord(char) - shift - ord('a')) % 26 + ord('a'))\n",
    "        else:\n",
    "            decoded_char = char\n",
    "        decoded_text += decoded_char \n",
    "    return decoded_text\n",
    "text = \"lopp, zruog!\"\n",
    "shift = 3\n",
    "\n",
    "decoded_text = caesar_cipher_decoder(text, shift)\n",
    "\n",
    "print(\"Decoded text:\", decoded_text)\n",
    "\n"
   ]
  },
  {
   "cell_type": "markdown",
   "id": "b240db98-5d25-4620-823e-1014c1370d32",
   "metadata": {},
   "source": [
    "44. Find the most frequent word in a string."
   ]
  },
  {
   "cell_type": "code",
   "execution_count": 30,
   "id": "287feb8c-bf29-4af2-b710-8da59ee462d7",
   "metadata": {},
   "outputs": [
    {
     "name": "stdout",
     "output_type": "stream",
     "text": [
      "[('world', 2), ('Hello', 1), ('world,', 1), ('hello', 1)]\n"
     ]
    }
   ],
   "source": [
    "from collections import Counter\n",
    "\n",
    "input_string = \"Hello world, hello there! How's the world? world world world/'\"\n",
    "split_it = input_string.split()\n",
    "Counters_found = Counter(split_it)\n",
    "\n",
    "most_occur = Counters_found.most_common(4)\n",
    "print(most_occur)"
   ]
  },
  {
   "cell_type": "markdown",
   "id": "fcf4fcbf-3aa8-46ca-a4ca-0f21fb671f77",
   "metadata": {},
   "source": [
    "45. Find all unique words in a string."
   ]
  },
  {
   "cell_type": "code",
   "execution_count": 31,
   "id": "73c6c64d-e9e3-4cb8-a691-16ddd1ecf0c8",
   "metadata": {},
   "outputs": [
    {
     "name": "stdout",
     "output_type": "stream",
     "text": [
      "Object `going` not found.\n",
      "unique words: {'world', 'hello'}\n"
     ]
    }
   ],
   "source": [
    "import re\n",
    "\n",
    "def unique_words(input_string):\n",
    "    clean_string = re.sub(r'[^\\w\\s]', '', input_string).lower()\n",
    "    words = set(clean_string.split())\n",
    "    return words\n",
    "input_str = \"Hello world, hello there! how's it going?\n",
    "unique_word_set = unique_words(input_str)\n",
    "print(\"unique words:\", unique_word_set)"
   ]
  },
  {
   "cell_type": "markdown",
   "id": "cc1ae34b-c6cb-4736-8db1-273c182ba855",
   "metadata": {},
   "source": [
    "46. Count the number of syllables in a string."
   ]
  },
  {
   "cell_type": "code",
   "execution_count": 34,
   "id": "e2606c66-02d2-488c-aeba-99dce3e8f358",
   "metadata": {},
   "outputs": [
    {
     "name": "stdout",
     "output_type": "stream",
     "text": [
      "'Hello' has 2 syllables.\n",
      "'banana' has 3 syllables.\n",
      "'syllable' has 3 syllables.\n"
     ]
    }
   ],
   "source": [
    "import re\n",
    "def count_syllables(word):\n",
    "    vowel_groups = re.findall(r'[aeiouy]+', word, re.IGNORECASE)\n",
    "    return len(vowel_groups)\n",
    "\n",
    "word1 = \"Hello\"\n",
    "word2 = \"banana\"\n",
    "word3 = \"syllable\"\n",
    "\n",
    "syllables1 = count_syllables(word1)\n",
    "syllables2 = count_syllables(word2)\n",
    "syllables3 = count_syllables(word3)\n",
    "\n",
    "print(f\"'{word1}' has {syllables1} syllables.\")\n",
    "print(f\"'{word2}' has {syllables2} syllables.\")\n",
    "print(f\"'{word3}' has {syllables3} syllables.\")"
   ]
  },
  {
   "cell_type": "markdown",
   "id": "894a1aa2-81e7-4979-83e2-1152839c560e",
   "metadata": {},
   "source": [
    "47. Check if a string contains any special characters."
   ]
  },
  {
   "cell_type": "code",
   "execution_count": 35,
   "id": "a75906f3-a9b1-4138-bb3f-faa08ce2990d",
   "metadata": {},
   "outputs": [
    {
     "name": "stdout",
     "output_type": "stream",
     "text": [
      "'Hello, world!' contains special characters: True\n",
      "'This is a test.' contains special characters: True\n",
      "'Special@Characters' contains special characters: True\n"
     ]
    }
   ],
   "source": [
    "import re\n",
    "def contains_special_characters(input_string):\n",
    "    pattern = re.compile(r'[!@#$%^&*()_+{}\\[\\]:;<>,.?~\\\\/]')\n",
    "    match = pattern.search(input_string)\n",
    "    return bool(match)\n",
    "string1 = \"Hello, world!\"\n",
    "string2 = \"This is a test.\"\n",
    "string3 = \"Special@Characters\"\n",
    "\n",
    "result1 = contains_special_characters(string1)\n",
    "result2 = contains_special_characters(string2)\n",
    "result3 = contains_special_characters(string3)\n",
    "\n",
    "print(f\"'{string1}' contains special characters:\", result1)\n",
    "print(f\"'{string2}' contains special characters:\", result2)\n",
    "print(f\"'{string3}' contains special characters:\", result3)"
   ]
  },
  {
   "cell_type": "markdown",
   "id": "d18e4f14-59da-46fa-82bd-dde259ddfa1a",
   "metadata": {},
   "source": [
    "48. Remove the nth word from a string."
   ]
  },
  {
   "cell_type": "code",
   "execution_count": 41,
   "id": "e1abad1e-b444-4286-a5f7-5baaed917316",
   "metadata": {},
   "outputs": [],
   "source": [
    "def remove_nth_word(input_string , n):\n",
    "    words = input_string.split()\n",
    "    if n >= 1 and n <= len(words):\n",
    "        removed_word = words.pop(n-1)\n",
    "        modified_string = ' '.join(words)\n",
    "        return modified_string, removed_word\n",
    "    else:\n",
    "        return None, None\n",
    "    input_str = \"This is an example sentence to test the function.\"\n",
    "    n_value = 4\n",
    "    \n",
    "    modified_str, removed_word = remove_nth_word(input_str, n_value)\n",
    "    print (\"Original string:\",input_str)\n",
    "    if modified_str is not None:\n",
    "        print(\"Modified string:\", modified_str)\n",
    "        print(\"Removed word:\", removed_word)\n",
    "    else:\n",
    "        print(\"Invalid n value.\")\n",
    "    "
   ]
  },
  {
   "cell_type": "markdown",
   "id": "7adfb688-c45b-46c0-a4fb-bdaed34f7901",
   "metadata": {},
   "source": [
    "49. Insert a word at the nth position in a string."
   ]
  },
  {
   "cell_type": "code",
   "execution_count": 47,
   "id": "f27c3d6b-8c36-4605-8d56-9c62ad8b52b8",
   "metadata": {},
   "outputs": [
    {
     "name": "stdout",
     "output_type": "stream",
     "text": [
      "The original string : This is an example sentence to test the function.\n",
      "The add string : for\n",
      "The string after performing addition : Thisfor is an example sentence to test the function.\n"
     ]
    }
   ],
   "source": [
    "a = \"This is an example sentence to test the function.\"\n",
    "add_word = \"for\"\n",
    "print(\"The original string : \" + a)\n",
    "print(\"The add string : \" + add_word)\n",
    "n = 4\n",
    "res = a[ : n] + add_word + a[n : ]\n",
    "     \n",
    "print(\"The string after performing addition : \" + str(res))\n"
   ]
  },
  {
   "cell_type": "markdown",
   "id": "706a5cbc-2428-4238-ae9e-b567ca2a40f6",
   "metadata": {},
   "source": [
    "50. Convert a CSV string to a list of lists."
   ]
  },
  {
   "cell_type": "code",
   "execution_count": 53,
   "id": "260527fa-9b2e-4993-9eef-bd98951e6525",
   "metadata": {},
   "outputs": [
    {
     "name": "stdout",
     "output_type": "stream",
     "text": [
      "['Name', ' Age', ' Country']\n",
      "['John', ' 25', ' USA']\n",
      "['Alice', ' 30', ' Canada']\n",
      "['BOb', ' 22', ' UK']\n"
     ]
    }
   ],
   "source": [
    "def csv_string_to_list(csv_string):\n",
    "    lines = csv_string.split('\\n')\n",
    "    result = []\n",
    "    for line in lines:\n",
    "        fields = line.split(',')\n",
    "        result.append(fields)\n",
    "    return result\n",
    "csv_data = \"Name, Age, Country\\nJohn, 25, USA\\nAlice, 30, Canada\\nBOb, 22, UK\"\n",
    "\n",
    "list_of_lists = csv_string_to_list(csv_data)\n",
    "for row in list_of_lists:\n",
    "    print(row)\n",
    "    "
   ]
  },
  {
   "cell_type": "code",
   "execution_count": null,
   "id": "6aa336da-6e6e-413b-b224-f29d5531d73e",
   "metadata": {},
   "outputs": [],
   "source": []
  },
  {
   "cell_type": "code",
   "execution_count": null,
   "id": "f180444a-d329-4616-9fe8-1d18a056c57a",
   "metadata": {},
   "outputs": [],
   "source": []
  },
  {
   "cell_type": "raw",
   "id": "3ad82d1b-96e0-4eef-9b47-252a77c02970",
   "metadata": {},
   "source": [
    "List Based Practice Problem "
   ]
  },
  {
   "cell_type": "markdown",
   "id": "ae4e2a2c-4199-4b72-968e-ad8618ef20f7",
   "metadata": {},
   "source": [
    "1. Create a list with integers from 1 to 10."
   ]
  },
  {
   "cell_type": "code",
   "execution_count": 8,
   "id": "e89d869f-9b2d-47b7-af83-2c907d10869b",
   "metadata": {},
   "outputs": [
    {
     "name": "stdout",
     "output_type": "stream",
     "text": [
      "[1, 2, 3, 4, 5, 6, 7, 8, 9, 10]\n"
     ]
    }
   ],
   "source": [
    "int_list = [i for i in range(1,11)]\n",
    "print(int_list)"
   ]
  },
  {
   "cell_type": "markdown",
   "id": "9b50b2ed-c2cd-4687-b629-b6a513685ab0",
   "metadata": {},
   "source": [
    "2. Find the length of a list without using the `len()` function.\n",
    "    "
   ]
  },
  {
   "cell_type": "code",
   "execution_count": 11,
   "id": "7440df2e-4080-4d73-91a8-8c78250b7ccc",
   "metadata": {},
   "outputs": [
    {
     "name": "stdout",
     "output_type": "stream",
     "text": [
      "Length of list:  7\n"
     ]
    }
   ],
   "source": [
    "def len_fun(listt):\n",
    "    count = 0\n",
    "    for _ in listt:\n",
    "        count += 1\n",
    "    return count\n",
    "\n",
    "listtt = [1,2,3,4,5,6,7]\n",
    "length = len_fun(listtt)\n",
    "print(\"Length of list: \", length)"
   ]
  },
  {
   "cell_type": "markdown",
   "id": "0ee95dd8-7629-44fc-a1bf-28a51734c2da",
   "metadata": {},
   "source": [
    "3. Append an element to the end of a list."
   ]
  },
  {
   "cell_type": "code",
   "execution_count": 14,
   "id": "3155c5b3-c206-4ab9-99c3-492616a4adfb",
   "metadata": {},
   "outputs": [
    {
     "name": "stdout",
     "output_type": "stream",
     "text": [
      "New list is:  [1, 2, 3, 4, 5, 6]\n"
     ]
    }
   ],
   "source": [
    "list1 = [1,2,3,4,5]\n",
    "element = 6\n",
    "list1.append(element)\n",
    "print (\"New list is: \",list1)"
   ]
  },
  {
   "cell_type": "markdown",
   "id": "7e3ea5ad-21a1-4ee7-8e85-89a89f0da706",
   "metadata": {},
   "source": [
    "4. Insert an element at a specific index in a list."
   ]
  },
  {
   "cell_type": "code",
   "execution_count": 18,
   "id": "339c9419-2ee1-4c0c-a4d3-dfba0aaf9262",
   "metadata": {},
   "outputs": [
    {
     "name": "stdout",
     "output_type": "stream",
     "text": [
      "Element added at certain index point: [1, 2, 6, 3, 4, 5]\n"
     ]
    }
   ],
   "source": [
    "list1 = [1,2,3,4,5]\n",
    "element = 6\n",
    "index = 2\n",
    "list1.insert(index,element)\n",
    "print (\"Element added at certain index point:\",list1)"
   ]
  },
  {
   "cell_type": "markdown",
   "id": "aedcb467-1c1d-4f9f-aa7d-0522f46826b6",
   "metadata": {},
   "source": [
    "5. Remove an element from a list by its value."
   ]
  },
  {
   "cell_type": "code",
   "execution_count": 19,
   "id": "2ad2ae71-ff84-4f83-bf3f-89e9c31645fb",
   "metadata": {},
   "outputs": [
    {
     "name": "stdout",
     "output_type": "stream",
     "text": [
      "New List: [1, 2, 3, 4, 5, 6]\n"
     ]
    }
   ],
   "source": [
    "list1 = [1,2,3,4,45,5,6]\n",
    "element_remove = 45\n",
    "list1.remove(45)\n",
    "print(\"New List:\",list1)"
   ]
  },
  {
   "cell_type": "markdown",
   "id": "cf50f834-7b10-4d1a-935d-92063cb12027",
   "metadata": {},
   "source": [
    "6. Remove an element from a list by its index."
   ]
  },
  {
   "cell_type": "code",
   "execution_count": 21,
   "id": "eb6c86cf-ad5b-411f-b37c-39d5d07755ae",
   "metadata": {},
   "outputs": [
    {
     "name": "stdout",
     "output_type": "stream",
     "text": [
      "Updated List: [1, 2, 3, 4, 5]\n",
      "Removed Element: 77\n"
     ]
    }
   ],
   "source": [
    "list1 = [1,2,3,4,5,77]\n",
    "index = 5\n",
    "removed_element = list1.pop(index)\n",
    "\n",
    "print(\"Updated List:\",list1)\n",
    "print(\"Removed Element:\", removed_element)"
   ]
  },
  {
   "cell_type": "markdown",
   "id": "d1799604-a586-43fb-8ba0-485f4c4328fb",
   "metadata": {},
   "source": [
    "7. Check if an element exists in a list."
   ]
  },
  {
   "cell_type": "code",
   "execution_count": 24,
   "id": "5e74d3d3-20b7-45c0-975c-2ded60b2e720",
   "metadata": {},
   "outputs": [
    {
     "name": "stdout",
     "output_type": "stream",
     "text": [
      "100 is present in the list\n"
     ]
    }
   ],
   "source": [
    "list1 = [1,2,3,4,5,6,100]\n",
    "element_to_check = 100\n",
    "\n",
    "if element_to_check in list1:\n",
    "    print(f\"{element_to_check} is present in the list\")\n",
    "else:\n",
    "    print(f\"{element_to_check} is not present in the list\")"
   ]
  },
  {
   "cell_type": "markdown",
   "id": "a818a662-c16e-436f-9878-2322dd511dac",
   "metadata": {},
   "source": [
    "8. Find the index of the first occurrence of an element in a list."
   ]
  },
  {
   "cell_type": "code",
   "execution_count": 27,
   "id": "04b1012f-f35f-413d-aeb7-10cd3668ac53",
   "metadata": {},
   "outputs": [
    {
     "name": "stdout",
     "output_type": "stream",
     "text": [
      "1 comes at 0 index position\n"
     ]
    }
   ],
   "source": [
    "list1 = [1,2,3,4,5,6]\n",
    "element_to_find = 1\n",
    "index = list1.index(element_to_find)\n",
    "print(f\"{element_to_find} comes at {index} index position\")"
   ]
  },
  {
   "cell_type": "markdown",
   "id": "1289412e-abc1-4738-9b35-0c0e0759b0dd",
   "metadata": {},
   "source": [
    "9. Count the occurrences of an element in a list."
   ]
  },
  {
   "cell_type": "code",
   "execution_count": 30,
   "id": "bb2602b0-b7d7-43b0-a88b-7bba97c6f6fc",
   "metadata": {},
   "outputs": [
    {
     "name": "stdout",
     "output_type": "stream",
     "text": [
      "3 occurs 4 times in the list\n"
     ]
    }
   ],
   "source": [
    "list1 = [1,2,3,4,5,3,3,3]\n",
    "element = 3\n",
    "count = list1.count(element)\n",
    "print(f\"{element} occurs {count} times in the list\")"
   ]
  },
  {
   "cell_type": "markdown",
   "id": "3f7042ff-03b9-40f2-ac81-582c677336ed",
   "metadata": {},
   "source": [
    "10. Reverse the order of elements in a list."
   ]
  },
  {
   "cell_type": "code",
   "execution_count": 34,
   "id": "095d80a5-35a3-4a4c-9bea-4738fa3274e5",
   "metadata": {},
   "outputs": [
    {
     "name": "stdout",
     "output_type": "stream",
     "text": [
      "[7, 6, 5, 4, 3, 2, 1]\n"
     ]
    }
   ],
   "source": [
    "list1 = [1,2,3,4,5,6,7]\n",
    "list1.reverse()\n",
    "print(list1)"
   ]
  },
  {
   "cell_type": "markdown",
   "id": "c412bfce-edef-4909-83b2-f46d31e13651",
   "metadata": {},
   "source": [
    "11. Sort a list in ascending order."
   ]
  },
  {
   "cell_type": "code",
   "execution_count": 35,
   "id": "12f9b29d-fbb8-4d54-a670-80af513a71c6",
   "metadata": {},
   "outputs": [
    {
     "name": "stdout",
     "output_type": "stream",
     "text": [
      "Sorted list: [5, 8, 34, 37, 43, 63, 65, 123, 234, 467, 6654]\n"
     ]
    }
   ],
   "source": [
    "list1 = [5,37,34,123,8,234,6654,43,467,63,65]\n",
    "list1.sort()\n",
    "print(\"Sorted list:\",list1)"
   ]
  },
  {
   "cell_type": "markdown",
   "id": "a3d737c1-fd1d-4f07-a506-0dfcbd42cd09",
   "metadata": {},
   "source": [
    "12. Sort a list in descending order."
   ]
  },
  {
   "cell_type": "code",
   "execution_count": 37,
   "id": "4a1b1424-ad6d-4f3d-b66f-213ab9e7148c",
   "metadata": {},
   "outputs": [
    {
     "name": "stdout",
     "output_type": "stream",
     "text": [
      "Sorted list: [6654, 467, 234, 123, 65, 63, 43, 37, 34, 8, 5]\n"
     ]
    }
   ],
   "source": [
    "list1 = [5,37,34,123,8,234,6654,43,467,63,65]\n",
    "list1.sort(reverse = True)\n",
    "print(\"Sorted list:\", list1)"
   ]
  },
  {
   "cell_type": "markdown",
   "id": "d119bc58-f33c-4b58-a9d8-15ca77a4d00a",
   "metadata": {},
   "source": [
    "13. Create a list of even numbers from 1 to 20."
   ]
  },
  {
   "cell_type": "code",
   "execution_count": 38,
   "id": "0dd8b446-3fb7-4476-954f-a949a9072095",
   "metadata": {},
   "outputs": [
    {
     "name": "stdout",
     "output_type": "stream",
     "text": [
      "[2, 4, 6, 8, 10, 12, 14, 16, 18, 20]\n"
     ]
    }
   ],
   "source": [
    "list1 = [i for i in range(2,21,2)]\n",
    "print(list1)"
   ]
  },
  {
   "cell_type": "markdown",
   "id": "2e80a10e-ebf6-4ed1-a3c7-ae7b84e2d1bf",
   "metadata": {},
   "source": [
    "14. Create a list of odd numbers from 1 to 20."
   ]
  },
  {
   "cell_type": "code",
   "execution_count": 39,
   "id": "5f1b6bb5-45b5-42f9-8cbe-2c0c1b2201e4",
   "metadata": {},
   "outputs": [
    {
     "name": "stdout",
     "output_type": "stream",
     "text": [
      "[1, 3, 5, 7, 9, 11, 13, 15, 17, 19]\n"
     ]
    }
   ],
   "source": [
    "list1 = [i for i in range(1,21,2)]\n",
    "print(list1)"
   ]
  },
  {
   "cell_type": "markdown",
   "id": "94f837e3-ccbf-47ef-afe6-3fb8bea20f47",
   "metadata": {},
   "source": [
    "15. Find the sum of all elements in a list."
   ]
  },
  {
   "cell_type": "code",
   "execution_count": 40,
   "id": "fa10e9d7-c91d-4f18-8420-2e9eb2656d3d",
   "metadata": {},
   "outputs": [
    {
     "name": "stdout",
     "output_type": "stream",
     "text": [
      "Total sum is: 36\n"
     ]
    }
   ],
   "source": [
    "list1 = [1,2,3,4,5,6,7,8]\n",
    "total_sum = sum(list1)\n",
    "print(\"Total sum is:\",total_sum)"
   ]
  },
  {
   "cell_type": "markdown",
   "id": "3f2b7ed3-7c03-436e-90cb-2da3cf8d716b",
   "metadata": {},
   "source": [
    "16. Find the maximum value in a list."
   ]
  },
  {
   "cell_type": "code",
   "execution_count": 41,
   "id": "addd969f-934a-4964-a2ee-0f6df3758fa4",
   "metadata": {},
   "outputs": [
    {
     "name": "stdout",
     "output_type": "stream",
     "text": [
      "max no is: 8\n"
     ]
    }
   ],
   "source": [
    "list1 = [1,2,3,4,5,6,7,8]\n",
    "max_num = max(list1)\n",
    "print(\"max no is:\", max_num)"
   ]
  },
  {
   "cell_type": "markdown",
   "id": "7c53ded6-3b80-48c6-9732-968c05f2f9c6",
   "metadata": {},
   "source": [
    "17. Find the minimum value in a list."
   ]
  },
  {
   "cell_type": "code",
   "execution_count": 42,
   "id": "d21187ba-69d1-4b71-9c8a-364a5e11871d",
   "metadata": {},
   "outputs": [
    {
     "name": "stdout",
     "output_type": "stream",
     "text": [
      "min no is 1\n"
     ]
    }
   ],
   "source": [
    "list1 = [1,2,3,4,5,6,7,8]\n",
    "min_no = min(list1)\n",
    "print(\"min no is\",min_no)"
   ]
  },
  {
   "cell_type": "markdown",
   "id": "137ba39a-cab8-4b2c-a458-0512d123f235",
   "metadata": {},
   "source": [
    "18. Create a list of squares of numbers from 1 to 10."
   ]
  },
  {
   "cell_type": "code",
   "execution_count": 43,
   "id": "c64bcf3b-2fe0-4515-b5ab-cfd3f665b03f",
   "metadata": {},
   "outputs": [
    {
     "name": "stdout",
     "output_type": "stream",
     "text": [
      "[1, 4, 9, 16, 25, 36, 49, 64, 81, 100]\n"
     ]
    }
   ],
   "source": [
    "square = [x**2 for x in range(1,11)]\n",
    "print(square)"
   ]
  },
  {
   "cell_type": "markdown",
   "id": "84e82b29-495d-4344-90c0-231d3cf2db23",
   "metadata": {},
   "source": [
    "19. Create a list of random numbers."
   ]
  },
  {
   "cell_type": "code",
   "execution_count": 45,
   "id": "9a80ff45-cab8-4bff-9a61-068aab93beee",
   "metadata": {},
   "outputs": [
    {
     "name": "stdout",
     "output_type": "stream",
     "text": [
      "[68, 99, 84, 15, 46, 15, 19, 26, 9, 18]\n"
     ]
    }
   ],
   "source": [
    "import random\n",
    "random_integer = [random.randint(1,100) for _ in range(10)]\n",
    "print(random_integer)"
   ]
  },
  {
   "cell_type": "markdown",
   "id": "712302de-f0c9-4554-aac9-af99ba28754f",
   "metadata": {},
   "source": [
    "20. Remove duplicates from a list."
   ]
  },
  {
   "cell_type": "code",
   "execution_count": 46,
   "id": "0bd1fe72-e010-4e33-81ba-c5323e060322",
   "metadata": {},
   "outputs": [
    {
     "name": "stdout",
     "output_type": "stream",
     "text": [
      "[40, 10, 50, 20, 30]\n"
     ]
    }
   ],
   "source": [
    "my_list = [10, 20, 30, 20, 40, 10, 50, 30]\n",
    "new_list = list(set(my_list))\n",
    "print(new_list)"
   ]
  },
  {
   "cell_type": "markdown",
   "id": "c9f41490-36d9-4107-9f8b-7d5e710e6bec",
   "metadata": {},
   "source": [
    "21. Find the common elements between two lists."
   ]
  },
  {
   "cell_type": "code",
   "execution_count": 48,
   "id": "9b6d3f02-fecb-4175-8674-b06e83d49ca1",
   "metadata": {},
   "outputs": [
    {
     "name": "stdout",
     "output_type": "stream",
     "text": [
      "List 1: [1, 2, 3, 4, 5]\n",
      "List 2: [3, 4, 5, 6, 7]\n",
      "Common Elements: [3, 4, 5]\n"
     ]
    }
   ],
   "source": [
    "list1 = [1, 2, 3, 4, 5]\n",
    "list2 = [3, 4, 5, 6, 7]\n",
    "\n",
    "common_elements = [element for element in list1 if element in list2]\n",
    "\n",
    "print(\"List 1:\", list1)\n",
    "print(\"List 2:\", list2)\n",
    "print(\"Common Elements:\", common_elements)\n"
   ]
  },
  {
   "cell_type": "markdown",
   "id": "d5f2e299-1eba-416d-b912-46a2df318b3b",
   "metadata": {},
   "source": [
    "22. Find the difference between two lists."
   ]
  },
  {
   "cell_type": "code",
   "execution_count": 49,
   "id": "97b51483-767f-4049-8801-2349edfe0585",
   "metadata": {},
   "outputs": [
    {
     "name": "stdout",
     "output_type": "stream",
     "text": [
      "Difference between lists: [20, 10]\n"
     ]
    }
   ],
   "source": [
    "list1 = [10, 20, 30, 40, 50]\n",
    "list2 = [30, 40, 50, 60, 70]\n",
    "\n",
    "difference = list(set(list1).difference(list2))\n",
    "print(\"Difference between lists:\", difference)"
   ]
  },
  {
   "cell_type": "markdown",
   "id": "3aa5b5c0-50a1-493d-8a96-e0a311e1168e",
   "metadata": {},
   "source": [
    "23. Merge two lists."
   ]
  },
  {
   "cell_type": "code",
   "execution_count": 50,
   "id": "a931cac6-08b5-4fe8-8182-e5d9127a1a65",
   "metadata": {},
   "outputs": [
    {
     "name": "stdout",
     "output_type": "stream",
     "text": [
      "Merged list is: [10, 20, 30, 40, 50, 60]\n"
     ]
    }
   ],
   "source": [
    "list1 = [10, 20, 30]\n",
    "list2 = [40, 50, 60]\n",
    "\n",
    "merged_list = list1 + list2\n",
    "\n",
    "print(\"Merged list is:\", merged_list)"
   ]
  },
  {
   "cell_type": "markdown",
   "id": "41e68461-a4c1-4b4c-b32f-9fa36b45f324",
   "metadata": {},
   "source": [
    "24. Multiply all elements in a list by 2."
   ]
  },
  {
   "cell_type": "code",
   "execution_count": 51,
   "id": "65086471-fc43-4456-b17b-957c1c09e3e6",
   "metadata": {},
   "outputs": [
    {
     "name": "stdout",
     "output_type": "stream",
     "text": [
      "[2, 4, 6, 8, 10]\n"
     ]
    }
   ],
   "source": [
    "list1 = [1,2,3,4,5]\n",
    "new_list = [x*2 for x in list1]\n",
    "print(new_list)"
   ]
  },
  {
   "cell_type": "markdown",
   "id": "36589f9b-c512-4d94-9a87-08d7345f0559",
   "metadata": {},
   "source": [
    "25. Filter out all even numbers from a list."
   ]
  },
  {
   "cell_type": "code",
   "execution_count": 52,
   "id": "77367c9c-8037-4dca-89a8-fe5920de8e55",
   "metadata": {},
   "outputs": [
    {
     "name": "stdout",
     "output_type": "stream",
     "text": [
      "List without even number: [1, 3, 5, 7, 9, 11, 13, 15]\n"
     ]
    }
   ],
   "source": [
    "list1 = [1,2,3,4,5,6,7,8,9,10,11,12,13,14,15,16]\n",
    "even_list = [num for num in list1 if num % 2 != 0]\n",
    "print(\"List without even number:\", even_list)"
   ]
  },
  {
   "cell_type": "markdown",
   "id": "1e7f0011-8a62-47fb-a749-97b71a9ba39c",
   "metadata": {},
   "source": [
    "26. Convert a list of strings to a list of integers."
   ]
  },
  {
   "cell_type": "code",
   "execution_count": 53,
   "id": "e30201c7-3fcf-4a27-bec0-72cc907edd74",
   "metadata": {},
   "outputs": [
    {
     "name": "stdout",
     "output_type": "stream",
     "text": [
      "[1, 2, 3, 4, 5, 6, 7, 8, 9]\n"
     ]
    }
   ],
   "source": [
    "string_list = [\"1\",\"2\",\"3\",\"4\",\"5\",\"6\",\"7\",\"8\",\"9\"]\n",
    "int_list = [int(x) for x in string_list]\n",
    "print(int_list)"
   ]
  },
  {
   "cell_type": "markdown",
   "id": "4a53c610-4b0b-4b35-86c2-418d1cb74269",
   "metadata": {},
   "source": [
    "27. Convert a list of integers to a list of strings."
   ]
  },
  {
   "cell_type": "code",
   "execution_count": 54,
   "id": "2428ec2e-c7fe-435f-9870-45c52f5f0580",
   "metadata": {},
   "outputs": [
    {
     "name": "stdout",
     "output_type": "stream",
     "text": [
      "['1', '2', '3', '4', '5', '6']\n"
     ]
    }
   ],
   "source": [
    "int_list = [1,2,3,4,5,6]\n",
    "string_list = [str(x) for x in int_list]\n",
    "print(string_list)"
   ]
  },
  {
   "cell_type": "markdown",
   "id": "c392465c-6fd9-4282-8d6a-d3e926befc27",
   "metadata": {},
   "source": [
    "28. Flatten a nested list."
   ]
  },
  {
   "cell_type": "code",
   "execution_count": 56,
   "id": "61d1b027-f2c2-4eb5-90e3-3dc943369490",
   "metadata": {},
   "outputs": [
    {
     "name": "stdout",
     "output_type": "stream",
     "text": [
      "Flattened list: [1, 2, 3, 4, 5, 6, 7, 8, 9]\n"
     ]
    }
   ],
   "source": [
    "nested_list = [[1,2,3],[4,5],[6,7,8,9]]\n",
    "\n",
    "def flatten_list(nested):\n",
    "    flattened = []\n",
    "    for sublist in nested:\n",
    "        if isinstance(sublist, list):\n",
    "            flattened.extend(flatten_list(sublist))\n",
    "        else:\n",
    "            flattened.append(sublist)\n",
    "    return flattened\n",
    "\n",
    "flattened_list = flatten_list(nested_list)\n",
    "\n",
    "print(\"Flattened list:\", flattened_list)\n"
   ]
  },
  {
   "cell_type": "markdown",
   "id": "ca4a8af3-4a42-4ac3-a537-d198f91c922a",
   "metadata": {},
   "source": [
    "29. Create a list of the first 10 Fibonacci numbers."
   ]
  },
  {
   "cell_type": "code",
   "execution_count": 57,
   "id": "a00c7236-e76e-40b4-97e5-399d488f6bbd",
   "metadata": {},
   "outputs": [
    {
     "name": "stdout",
     "output_type": "stream",
     "text": [
      "[0, 1]\n"
     ]
    }
   ],
   "source": [
    "def generate_fibonacci(n):\n",
    "    fibonacci_list = [0,1]\n",
    "    \n",
    "    for i in range(2,n):\n",
    "        next_fibonacci = fibonacci_list[i-1] + fibonnacci_list[i-2]\n",
    "        fibonacci_list.append(next_fibonacci)\n",
    "    return fibonacci_list\n",
    "\n",
    "fibonacci_number = generate_fibonacci(2)\n",
    "print(fibonacci_number)\n",
    "        \n",
    "        "
   ]
  },
  {
   "cell_type": "markdown",
   "id": "6966264a-0ee6-41ee-9018-6080bc430be7",
   "metadata": {},
   "source": [
    "30. Check if a list is sorted."
   ]
  },
  {
   "cell_type": "code",
   "execution_count": 61,
   "id": "0feb929d-916c-4866-ae47-7e0f7f2325f7",
   "metadata": {},
   "outputs": [
    {
     "name": "stdout",
     "output_type": "stream",
     "text": [
      "The list is sorted in ascending order\n"
     ]
    }
   ],
   "source": [
    "def is_sorting(lst):\n",
    "    for i in range(1, len(lst)):\n",
    "        if lst[i] < lst[i-1]:\n",
    "            return False\n",
    "    return True\n",
    "    \n",
    "acd_list = [1,2,3,4,5,6]\n",
    "if is_sorting(acd_list):\n",
    "    print(\"The list is sorted in ascending order\")\n",
    "else:\n",
    "    print(\"The list is not sorted\")"
   ]
  },
  {
   "cell_type": "markdown",
   "id": "1ca4d68a-7165-40c7-9d7a-267e57665b9e",
   "metadata": {},
   "source": [
    "31. Rotate a list to the left by `n` positions."
   ]
  },
  {
   "cell_type": "code",
   "execution_count": 1,
   "id": "e55ab44b-5b64-4f38-9f5a-d089736b9d41",
   "metadata": {},
   "outputs": [
    {
     "name": "stdout",
     "output_type": "stream",
     "text": [
      "Rotated List: [4, 5, 1, 2, 3]\n"
     ]
    }
   ],
   "source": [
    "def rotate_left(lst, n):\n",
    "    n = n % len(lst)\n",
    "    rotated = lst[n:] + lst[:n]\n",
    "    return rotated\n",
    "\n",
    "list1 = [1,2,3,4,5]\n",
    "\n",
    "n = 3\n",
    "rotated_list = rotate_left(list1, n)\n",
    "print(\"Rotated List:\", rotated_list)\n",
    "    "
   ]
  },
  {
   "cell_type": "markdown",
   "id": "f7573ed0-78af-4d1e-a57d-c3b48b7b7767",
   "metadata": {},
   "source": [
    "32. Rotate a list to the right by `n` positions."
   ]
  },
  {
   "cell_type": "code",
   "execution_count": 4,
   "id": "8d1b810a-4d4e-448e-8f4d-fa89c90f19f5",
   "metadata": {},
   "outputs": [
    {
     "name": "stdout",
     "output_type": "stream",
     "text": [
      "Rotated list: [4, 5, 1, 2, 3]\n"
     ]
    }
   ],
   "source": [
    "def rotate_right(lst, n):\n",
    "    n = n% len(lst)\n",
    "    rotated = lst[-n:] + lst[:-n]\n",
    "    return rotated\n",
    "\n",
    "list1 = [1,2,3,4,5]\n",
    "n = 2\n",
    "rotated_list = rotate_right(list1, n)\n",
    "print(\"Rotated list:\", rotated_list)"
   ]
  },
  {
   "cell_type": "markdown",
   "id": "93dda806-91e5-4310-bff3-0eaa52903e74",
   "metadata": {},
   "source": [
    "33. Create a list of prime numbers up to 50."
   ]
  },
  {
   "cell_type": "code",
   "execution_count": 7,
   "id": "5427791d-ac38-4692-a802-cc57ba38732f",
   "metadata": {},
   "outputs": [
    {
     "name": "stdout",
     "output_type": "stream",
     "text": [
      "5 25\n",
      "5 29\n",
      "List of prime numbers up to 50: [2, 3, 5, 7, 11, 13, 17, 19, 23, 29]\n"
     ]
    }
   ],
   "source": [
    "\n",
    "def is_prime(num):\n",
    "    if num <= 1:\n",
    "        return False\n",
    "    if num <= 3:\n",
    "        return True\n",
    "    if num % 2 == 0 or num % 3 == 0:\n",
    "        return False\n",
    "    i = 5\n",
    "    while i * i <= num:\n",
    "        print(i,num)\n",
    "        if num % i == 0 or num % (i + 2) == 0:\n",
    "            return False\n",
    "        i += 6\n",
    "    return True\n",
    "\n",
    "\n",
    "prime_numbers = [num for num in range(2,30) if is_prime(num)]\n",
    "\n",
    "print(\"List of prime numbers up to 50:\", prime_numbers)"
   ]
  },
  {
   "cell_type": "markdown",
   "id": "3363806e-414b-486c-8e34-05bf5600d395",
   "metadata": {},
   "source": [
    "34. Split a list into chunks of size `n`."
   ]
  },
  {
   "cell_type": "code",
   "execution_count": 10,
   "id": "a25558cc-2549-46fc-9bd2-862c39fb4327",
   "metadata": {},
   "outputs": [
    {
     "name": "stdout",
     "output_type": "stream",
     "text": [
      "Chunked List (chunks of size 2): [[1, 2], [3, 4], [5, 6], [7, 8], [9]]\n"
     ]
    }
   ],
   "source": [
    "def chunk_list(lst, chunk):\n",
    "    return [lst[i:i + chunk] for i in range(0, len(lst), chunk)]\n",
    "\n",
    "list1 = [1,2,3,4,5,6,7,8,9]\n",
    "chunk1 = 2\n",
    "\n",
    "result = chunk_list(list1, chunk1)\n",
    "print(f\"Chunked List (chunks of size {chunk1}): {result}\")\n"
   ]
  },
  {
   "cell_type": "markdown",
   "id": "91897929-914e-4ecc-ae85-4e016ff65053",
   "metadata": {},
   "source": [
    "35. Find the second largest number in a list."
   ]
  },
  {
   "cell_type": "code",
   "execution_count": 12,
   "id": "7931bf25-eb1a-4b79-96f3-91f8d8022621",
   "metadata": {},
   "outputs": [
    {
     "name": "stdout",
     "output_type": "stream",
     "text": [
      "Second largest number is: 212\n"
     ]
    }
   ],
   "source": [
    "list1 = [10,234,123,50,212,52]\n",
    "\n",
    "sorted_list = sorted(set(list1))\n",
    "\n",
    "if len(sorted_list) >= 2:\n",
    "    second_largest = sorted_list[-2]\n",
    "    print(\"Second largest number is:\", second_largest)\n",
    "else:\n",
    "    print(\"The list is not big enough\")"
   ]
  },
  {
   "cell_type": "markdown",
   "id": "997f0c7d-8fbb-404b-b649-a080ade188f5",
   "metadata": {},
   "source": [
    "36. Replace every element in a list with its square."
   ]
  },
  {
   "cell_type": "code",
   "execution_count": 13,
   "id": "3b2d85f3-605c-429b-86b6-2093f21b69e3",
   "metadata": {},
   "outputs": [
    {
     "name": "stdout",
     "output_type": "stream",
     "text": [
      "[4, 16, 36, 64, 100]\n"
     ]
    }
   ],
   "source": [
    "my_list = [2, 4, 6, 8, 10]\n",
    "\n",
    "square_list = [x**2 for x in my_list]\n",
    "print(square_list)"
   ]
  },
  {
   "cell_type": "markdown",
   "id": "a8a65b5c-9504-4f79-8ccb-96af0329f24b",
   "metadata": {},
   "source": [
    "37. Convert a list to a dictionary where list elements become keys and their indices become values."
   ]
  },
  {
   "cell_type": "code",
   "execution_count": 15,
   "id": "66577676-1431-4505-9c5d-b4394b1a638b",
   "metadata": {},
   "outputs": [
    {
     "name": "stdout",
     "output_type": "stream",
     "text": [
      "New Dict: {'apple': 0, 'banana': 1, 'cherry': 2, 'date': 3, 'elderberry': 4}\n"
     ]
    }
   ],
   "source": [
    "my_list = ['apple', 'banana', 'cherry', 'date', 'elderberry']\n",
    "my_dict = {elements : index for index, elements in enumerate(my_list)}\n",
    "\n",
    "print(\"New Dict:\", my_dict)\n"
   ]
  },
  {
   "cell_type": "markdown",
   "id": "87e4104b-8fa4-4865-9534-391752ed5c3d",
   "metadata": {},
   "source": [
    "38. Shuffle the elements of a list randomly."
   ]
  },
  {
   "cell_type": "code",
   "execution_count": 16,
   "id": "ff1fc719-cd71-4f40-943c-966afb29103f",
   "metadata": {},
   "outputs": [
    {
     "name": "stdout",
     "output_type": "stream",
     "text": [
      "[6, 9, 2, 1, 5, 7, 8, 4, 3, 10]\n"
     ]
    }
   ],
   "source": [
    "import random\n",
    "\n",
    "my_list = [1, 2, 3, 4, 5, 6, 7, 8, 9, 10]\n",
    "\n",
    "random.shuffle(my_list)\n",
    "\n",
    "print(my_list)"
   ]
  },
  {
   "cell_type": "markdown",
   "id": "a25e6574-b8f0-4c06-9df0-2d28a0178adf",
   "metadata": {},
   "source": [
    "39. Create a list of the first 10 factorial numbers."
   ]
  },
  {
   "cell_type": "code",
   "execution_count": 18,
   "id": "1cfb3399-16f8-4225-82c8-6357ead65ac7",
   "metadata": {},
   "outputs": [
    {
     "name": "stdout",
     "output_type": "stream",
     "text": [
      "First 10 factorial numbers: [1, 1, 2, 6, 24, 120, 720, 5040, 40320, 362880]\n"
     ]
    }
   ],
   "source": [
    "def factorial(n):\n",
    "    if n == 0 or n == 1:\n",
    "        return 1\n",
    "    else:\n",
    "        return n * factorial(n-1)\n",
    "    \n",
    "factorial_number = [factorial(i) for i in range (10)]\n",
    "print(\"First 10 factorial numbers:\",factorial_number)"
   ]
  },
  {
   "cell_type": "markdown",
   "id": "93b1c1bf-952f-46a3-baf1-48018ba6dad0",
   "metadata": {},
   "source": [
    "40. Check if two lists have at least one element in common."
   ]
  },
  {
   "cell_type": "code",
   "execution_count": 21,
   "id": "089eb640-8a91-4d99-a341-c2e2c573e985",
   "metadata": {},
   "outputs": [
    {
     "name": "stdout",
     "output_type": "stream",
     "text": [
      "has common element\n"
     ]
    }
   ],
   "source": [
    "def common(list1, list2):\n",
    "    for items in list1:\n",
    "        if items in list2:\n",
    "            return True\n",
    "    return False\n",
    "\n",
    "list1 = [1, 2, 3, 4, 5]\n",
    "list2 = [4, 5, 6, 7, 8]\n",
    "\n",
    "if common(list1, list2):\n",
    "    print(\"has common element\")\n",
    "else:\n",
    "    print(\"No common element\")"
   ]
  },
  {
   "cell_type": "markdown",
   "id": "ee828f8e-d102-427e-a513-f2c25055be23",
   "metadata": {},
   "source": [
    "41. Remove all elements from a list."
   ]
  },
  {
   "cell_type": "code",
   "execution_count": 1,
   "id": "bc259bc4-42a5-4886-a9b5-b1e6ba8eb535",
   "metadata": {},
   "outputs": [
    {
     "name": "stdout",
     "output_type": "stream",
     "text": [
      "Empty list: []\n"
     ]
    }
   ],
   "source": [
    "my_list = [1, 2, 3, 4, 5]\n",
    "my_list.clear()\n",
    "print(\"Empty list:\", my_list)"
   ]
  },
  {
   "cell_type": "markdown",
   "id": "ad4213d7-e7ee-40fd-8f8a-fce0f2bfc7de",
   "metadata": {},
   "source": [
    "42. Replace negative numbers in a list with 0."
   ]
  },
  {
   "cell_type": "code",
   "execution_count": 6,
   "id": "2a403717-42a9-4602-b248-5ba74cecca03",
   "metadata": {},
   "outputs": [
    {
     "name": "stdout",
     "output_type": "stream",
     "text": [
      "List after replacing negative numbers with 0: [10, 0, 20, 0, 30, 0]\n"
     ]
    }
   ],
   "source": [
    "my_list = [10, -5, 20, -15, 30, -25]\n",
    "\n",
    "for i in range(len(my_list)):\n",
    "    if my_list[i] < 0:\n",
    "        my_list[i] = 0\n",
    "        \n",
    "print(\"List after replacing negative numbers with 0:\", my_list)        \n",
    "        "
   ]
  },
  {
   "cell_type": "markdown",
   "id": "256ef7d9-4651-4c4b-9ab5-bf909a5349f2",
   "metadata": {},
   "source": [
    "43. Convert a string into a list of words."
   ]
  },
  {
   "cell_type": "code",
   "execution_count": 7,
   "id": "1a7c5335-e2c5-4bfe-8d66-ea1d81861752",
   "metadata": {},
   "outputs": [
    {
     "name": "stdout",
     "output_type": "stream",
     "text": [
      "List of words: ['Hello,', 'this', 'is', 'a', 'sample', 'sentence.']\n"
     ]
    }
   ],
   "source": [
    "my_string = \"Hello, this is a sample sentence.\"\n",
    "\n",
    "new_list = my_string.split()\n",
    "\n",
    "print(\"List of words:\", new_list)"
   ]
  },
  {
   "cell_type": "markdown",
   "id": "66f6c341-1375-441c-b4e5-d09b36bdbbe7",
   "metadata": {},
   "source": [
    "44. Convert a list of words into a string."
   ]
  },
  {
   "cell_type": "code",
   "execution_count": 8,
   "id": "fa267c30-b523-4783-85e0-a4bbd3d43f9a",
   "metadata": {},
   "outputs": [
    {
     "name": "stdout",
     "output_type": "stream",
     "text": [
      "New String: Hello, this is a sample sentence.\n"
     ]
    }
   ],
   "source": [
    "word_list = [\"Hello,\", \"this\", \"is\", \"a\", \"sample\", \"sentence.\"]\n",
    "\n",
    "new_string = \" \".join(word_list)\n",
    "\n",
    "print(\"New String:\", new_string)"
   ]
  },
  {
   "cell_type": "markdown",
   "id": "165cf384-946c-456d-997a-16922f3905a8",
   "metadata": {},
   "source": [
    "45. Create a list of the first `n` powers of 2."
   ]
  },
  {
   "cell_type": "code",
   "execution_count": 10,
   "id": "f25e1bf7-ca8b-4e55-997c-5ca3af0e4858",
   "metadata": {},
   "outputs": [
    {
     "name": "stdout",
     "output_type": "stream",
     "text": [
      "List of first 6 power of 2 are [1, 2, 4, 8, 16, 32]\n"
     ]
    }
   ],
   "source": [
    "n = 6\n",
    "\n",
    "power_list = [ 2** i for i in range(n)]\n",
    "\n",
    "print(\"List of first\", n ,\"power of 2 are\", power_list)"
   ]
  },
  {
   "cell_type": "markdown",
   "id": "a8a58d7d-41b3-4c73-859e-9999d86ca79a",
   "metadata": {},
   "source": [
    "46. Find the longest string in a list of strings."
   ]
  },
  {
   "cell_type": "code",
   "execution_count": 11,
   "id": "dc7eee09-9a07-457a-9984-dc6df29a7a31",
   "metadata": {},
   "outputs": [
    {
     "name": "stdout",
     "output_type": "stream",
     "text": [
      "Longest String: elderberry\n"
     ]
    }
   ],
   "source": [
    "string_list = [\"apple\", \"banana\", \"cherry\", \"date\", \"elderberry\"]\n",
    "\n",
    "longest_string = \"\"\n",
    "for s in string_list:\n",
    "    if len(s) > len(longest_string):\n",
    "        longest_string = s\n",
    "        \n",
    "print(\"Longest String:\", longest_string)        \n",
    "    "
   ]
  },
  {
   "cell_type": "markdown",
   "id": "7b7af07c-096a-4b33-9c52-04f816bcf989",
   "metadata": {},
   "source": [
    "47. Find the shortest string in a list of strings."
   ]
  },
  {
   "cell_type": "code",
   "execution_count": 12,
   "id": "14109505-acd6-4ddd-ae46-d23c12b9a671",
   "metadata": {},
   "outputs": [
    {
     "name": "stdout",
     "output_type": "stream",
     "text": [
      "Shortest String: date\n"
     ]
    }
   ],
   "source": [
    "string_list = [\"apple\", \"banana\", \"cherry\", \"date\", \"elderberry\"]\n",
    "\n",
    "shortest_string = string_list[0]\n",
    "for s in string_list:\n",
    "    if len(s) < len(shortest_string):\n",
    "        shortest_string = s\n",
    "        \n",
    "print(\"Shortest String:\", shortest_string)        "
   ]
  },
  {
   "cell_type": "markdown",
   "id": "2c9bb5ad-b4d3-49a3-896f-0637e03caac0",
   "metadata": {},
   "source": [
    "48. Create a list of the first `n` triangular numbers."
   ]
  },
  {
   "cell_type": "code",
   "execution_count": 14,
   "id": "dee014e6-536f-48d7-9932-d4bc7e95bb42",
   "metadata": {},
   "outputs": [
    {
     "name": "stdout",
     "output_type": "stream",
     "text": [
      "List of the first 5 triangular numbers: [1, 3, 6, 10, 15]\n"
     ]
    }
   ],
   "source": [
    "n = 5\n",
    "\n",
    "def triangular_number(n):\n",
    "    return [i*(i+1)//2 for i in range(1, i+1)]\n",
    "\n",
    "triangular_list = triangular_number(n)\n",
    "print(\"List of the first\", n, \"triangular numbers:\", triangular_list)\n",
    "            "
   ]
  },
  {
   "cell_type": "markdown",
   "id": "4465e07c-dd55-4c2a-8ff6-535ff2ba83e5",
   "metadata": {},
   "source": [
    "49. Check if a list contains another list as a subsequence."
   ]
  },
  {
   "cell_type": "code",
   "execution_count": 15,
   "id": "21000835-835e-4623-b1bb-ed377a4e76a0",
   "metadata": {},
   "outputs": [
    {
     "name": "stdout",
     "output_type": "stream",
     "text": [
      "Main list cntains sub\n"
     ]
    }
   ],
   "source": [
    "def is_subsequence(subsequence, main_list):\n",
    "    subseq_index = 0\n",
    "    for element in main_list:\n",
    "        if element == subsequence[subseq_index]:\n",
    "            subseq_index += 1\n",
    "            if subseq_index == len(subsequence):\n",
    "                return True\n",
    "    return False\n",
    "\n",
    "main_list = [1, 2, 3, 4, 5, 6, 7, 8, 9, 10]\n",
    "subsequence = [3, 5, 8]\n",
    "\n",
    "if is_subsequence(subsequence, main_list):\n",
    "    print(\"Main list cntains sub\")\n",
    "else:\n",
    "    print(\"Main list does not contain\")\n",
    "    "
   ]
  },
  {
   "cell_type": "markdown",
   "id": "06f92089-70d9-44a2-8225-85c48ece2de5",
   "metadata": {},
   "source": [
    "50. Swap two elements in a list by their indices."
   ]
  },
  {
   "cell_type": "code",
   "execution_count": 17,
   "id": "81dd8f26-d935-491f-a35b-2a4ba72caca8",
   "metadata": {},
   "outputs": [
    {
     "name": "stdout",
     "output_type": "stream",
     "text": [
      "List after swapping elements: [1, 4, 3, 2, 5]\n"
     ]
    }
   ],
   "source": [
    "my_list = [1, 2, 3, 4, 5]\n",
    "\n",
    "index1 = 1\n",
    "index2 = 3\n",
    "\n",
    "temp = my_list[index1]\n",
    "my_list[index1] = my_list[index2]\n",
    "my_list[index2] = temp \n",
    "\n",
    "print(\"List after swapping elements:\", my_list)"
   ]
  },
  {
   "cell_type": "code",
   "execution_count": null,
   "id": "06723774-46af-45e3-b597-cde426d0154c",
   "metadata": {},
   "outputs": [],
   "source": []
  },
  {
   "cell_type": "code",
   "execution_count": null,
   "id": "9c6cc951-f499-454d-b6ce-86ff349b5c0a",
   "metadata": {},
   "outputs": [],
   "source": []
  },
  {
   "cell_type": "code",
   "execution_count": null,
   "id": "c2564765-7dc3-4b7b-8202-dd8ef7e76607",
   "metadata": {},
   "outputs": [],
   "source": []
  },
  {
   "cell_type": "markdown",
   "id": "625525e6-1f39-428e-b4f4-510acee156f9",
   "metadata": {},
   "source": [
    "Tuple Based Practice Problem :"
   ]
  },
  {
   "cell_type": "markdown",
   "id": "c4efd743-92bf-4ac1-8105-ac34f46b73dc",
   "metadata": {},
   "source": [
    "1. Create a tuple with integers from 1 to 5."
   ]
  },
  {
   "cell_type": "code",
   "execution_count": 1,
   "id": "15ed4676-d479-451d-a778-18e19c967065",
   "metadata": {},
   "outputs": [
    {
     "name": "stdout",
     "output_type": "stream",
     "text": [
      "(1, 2, 3, 4, 5)\n"
     ]
    }
   ],
   "source": [
    "tuple1 = (1,2,3,4,5)\n",
    "print(tuple1)"
   ]
  },
  {
   "cell_type": "markdown",
   "id": "863e9b0b-92be-4973-9fcc-6a5a567c4ff7",
   "metadata": {},
   "source": [
    "2. Access the third element of a tuple."
   ]
  },
  {
   "cell_type": "code",
   "execution_count": 2,
   "id": "4b2ed3b4-06dd-497f-bfde-5b87ccaeb6de",
   "metadata": {},
   "outputs": [
    {
     "data": {
      "text/plain": [
       "3"
      ]
     },
     "execution_count": 2,
     "metadata": {},
     "output_type": "execute_result"
    }
   ],
   "source": [
    "tuple1 = (1,2,3,4,5)\n",
    "tuple1[2]"
   ]
  },
  {
   "cell_type": "markdown",
   "id": "6aacd7b9-7920-4309-aa57-e7a296c18683",
   "metadata": {},
   "source": [
    "3. Find the length of a tuple without using the `len()` function."
   ]
  },
  {
   "cell_type": "code",
   "execution_count": 4,
   "id": "41ebe111-7bff-4ec9-a7cd-0e9132e034eb",
   "metadata": {},
   "outputs": [
    {
     "name": "stdout",
     "output_type": "stream",
     "text": [
      "The length of tple is: 7\n"
     ]
    }
   ],
   "source": [
    "tuple1 = (1,2,3,4,5,6,7)\n",
    "count = 0\n",
    "for _ in tuple1:\n",
    "    count += 1\n",
    "    \n",
    "print(\"The length of tple is:\", count)    "
   ]
  },
  {
   "cell_type": "markdown",
   "id": "94be6cf1-19c2-40cc-89f9-298ddd9b9fad",
   "metadata": {},
   "source": [
    "4. Count the occurrences of an element in a tuple."
   ]
  },
  {
   "cell_type": "code",
   "execution_count": 6,
   "id": "f0643794-63f1-41b9-8662-5ba034fd0046",
   "metadata": {},
   "outputs": [
    {
     "name": "stdout",
     "output_type": "stream",
     "text": [
      "The element 3 appears 4 times\n"
     ]
    }
   ],
   "source": [
    "tuple1 = (3,2,3,4,3,6,3)\n",
    "element = 3\n",
    "count = 0\n",
    "for items in tuple1:\n",
    "    if items == element:\n",
    "        count += 1\n",
    "            \n",
    "print(f\"The element {element} appears {count} times\")       \n",
    "        \n"
   ]
  },
  {
   "cell_type": "markdown",
   "id": "dfaa82cf-081e-4d5e-8151-e86f7168e7ff",
   "metadata": {},
   "source": [
    "5. Find the index of the first occurrence of an element in a tuple."
   ]
  },
  {
   "cell_type": "code",
   "execution_count": 8,
   "id": "f42c0a87-b9f6-4f47-8589-d4abcc6dbe8e",
   "metadata": {},
   "outputs": [
    {
     "name": "stdout",
     "output_type": "stream",
     "text": [
      "the element 5 is not present in tuple\n"
     ]
    }
   ],
   "source": [
    "tuple1 = (1,2,3,4,5,6,7,8)\n",
    "element = 5\n",
    "index = -1\n",
    "\n",
    "for i, items in enumerate(tuple1):\n",
    "    if items == element:\n",
    "        count = i\n",
    "        break\n",
    "if index != -1:\n",
    "    print(f\"The first occurrance of {element} is at {count}\")\n",
    "else:\n",
    "    print(f\"the element {element} is not present in tuple\")\n",
    "        "
   ]
  },
  {
   "cell_type": "markdown",
   "id": "e019f532-621f-4a94-9af8-97f1c75aa3b3",
   "metadata": {},
   "source": [
    "6. Check if an element exists in a tuple."
   ]
  },
  {
   "cell_type": "code",
   "execution_count": 11,
   "id": "217bd8e0-fc10-440b-b188-615133ffa2c6",
   "metadata": {},
   "outputs": [
    {
     "name": "stdout",
     "output_type": "stream",
     "text": [
      "The element 60 is not present\n"
     ]
    }
   ],
   "source": [
    "my_tuple = (10, 20, 30, 40, 50)\n",
    "\n",
    "element = 60\n",
    "\n",
    "if element in my_tuple:\n",
    "    print(f\"The element {element} is present\")\n",
    "else:\n",
    "    print(f\"The element {element} is not present\")"
   ]
  },
  {
   "cell_type": "markdown",
   "id": "0622f7fc-5e35-4bdc-b925-256650624b8f",
   "metadata": {},
   "source": [
    "7. Convert a tuple to a list."
   ]
  },
  {
   "cell_type": "code",
   "execution_count": 13,
   "id": "ed86f540-637f-4de4-a5c6-bfdeed62b903",
   "metadata": {},
   "outputs": [
    {
     "name": "stdout",
     "output_type": "stream",
     "text": [
      "tuple (10, 20, 30, 40, 50)\n",
      "list: [10, 20, 30, 40, 50]\n"
     ]
    }
   ],
   "source": [
    "my_tuple = (10, 20, 30, 40, 50)\n",
    "list_tuple = list(my_tuple)\n",
    "print(\"tuple\",my_tuple)\n",
    "print(\"list:\",list_tuple)"
   ]
  },
  {
   "cell_type": "markdown",
   "id": "5b0b65d2-1aee-4fe2-b2ac-ab033fa410f8",
   "metadata": {},
   "source": [
    "8. Convert a list to a tuple."
   ]
  },
  {
   "cell_type": "code",
   "execution_count": 14,
   "id": "998c7842-bc66-40c7-aa2f-0168bb9e9a82",
   "metadata": {},
   "outputs": [
    {
     "name": "stdout",
     "output_type": "stream",
     "text": [
      "tuple (10, 20, 30, 40, 50)\n",
      "list: [10, 20, 30, 40, 50]\n"
     ]
    }
   ],
   "source": [
    "my_list = [10, 20, 30, 40, 50]\n",
    "my_tuple = tuple(my_list)\n",
    "\n",
    "print(\"tuple\",my_tuple)\n",
    "print(\"list:\",my_list)"
   ]
  },
  {
   "cell_type": "markdown",
   "id": "76d4509e-c2da-4c74-b9d0-5734a9f9ef3d",
   "metadata": {},
   "source": [
    "9. Unpack the elements of a tuple into variables."
   ]
  },
  {
   "cell_type": "code",
   "execution_count": 16,
   "id": "3c080be6-119e-4e09-b0d3-9afe3cd6ab4b",
   "metadata": {},
   "outputs": [
    {
     "name": "stdout",
     "output_type": "stream",
     "text": [
      "var1 221\n",
      "var2 21\n",
      "var3 31\n"
     ]
    }
   ],
   "source": [
    "my_tuple = (221,21,31)\n",
    "\n",
    "var1, var2, var3 = my_tuple\n",
    "\n",
    "print(\"var1\", var1)\n",
    "print(\"var2\", var2)\n",
    "print(\"var3\", var3)"
   ]
  },
  {
   "cell_type": "markdown",
   "id": "3673db58-c513-4d2b-af46-221d04352ebb",
   "metadata": {},
   "source": [
    "10. Create a tuple of even numbers from 1 to 10."
   ]
  },
  {
   "cell_type": "code",
   "execution_count": 17,
   "id": "6e876e52-8d55-4a53-a584-f72f024cf4e6",
   "metadata": {},
   "outputs": [
    {
     "name": "stdout",
     "output_type": "stream",
     "text": [
      "(2, 4, 6, 8, 10)\n"
     ]
    }
   ],
   "source": [
    "even_no = [num for num in range(2,11,2)]\n",
    "\n",
    "my_tuple = tuple(even_no)\n",
    "\n",
    "print(my_tuple)"
   ]
  },
  {
   "cell_type": "markdown",
   "id": "5e4218e0-7f9e-4a41-b957-d3f85dc2d4e2",
   "metadata": {},
   "source": [
    "11. Create a tuple of odd numbers from 1 to 10."
   ]
  },
  {
   "cell_type": "code",
   "execution_count": 18,
   "id": "4497e191-72d2-4481-a821-229d39f508a8",
   "metadata": {},
   "outputs": [
    {
     "name": "stdout",
     "output_type": "stream",
     "text": [
      "(1, 3, 5, 7, 9)\n"
     ]
    }
   ],
   "source": [
    "odd_number = [num for num in range(1,11,2)]\n",
    "\n",
    "my_tuple = tuple(odd_number)\n",
    "\n",
    "print(my_tuple)"
   ]
  },
  {
   "cell_type": "markdown",
   "id": "42b0b290-19da-444c-8f46-70cdef277060",
   "metadata": {},
   "source": [
    "12. Concatenate two tuples."
   ]
  },
  {
   "cell_type": "code",
   "execution_count": 19,
   "id": "ffc5341b-fc47-47ed-a11b-82c469a305a4",
   "metadata": {},
   "outputs": [
    {
     "name": "stdout",
     "output_type": "stream",
     "text": [
      "(1, 2, 3, 4, 5, 6, 7, 8)\n"
     ]
    }
   ],
   "source": [
    "tuple1 = (1,2,3,4)\n",
    "tuple2 = (5,6,7,8)\n",
    "\n",
    "my_tuple = tuple1 + tuple2\n",
    "\n",
    "print(my_tuple)"
   ]
  },
  {
   "cell_type": "markdown",
   "id": "2b949251-b8ef-4fbb-8d68-030215ba272f",
   "metadata": {},
   "source": [
    "13. Repeat a tuple three times."
   ]
  },
  {
   "cell_type": "code",
   "execution_count": 20,
   "id": "ec70e4bd-828b-4397-b5b9-b29bba0fcf1f",
   "metadata": {},
   "outputs": [
    {
     "name": "stdout",
     "output_type": "stream",
     "text": [
      "(1, 2, 3, 4, 1, 2, 3, 4, 1, 2, 3, 4)\n"
     ]
    }
   ],
   "source": [
    "tuple1 = (1,2,3,4)\n",
    "\n",
    "tuple3 = tuple1 * 3\n",
    "\n",
    "print(tuple3)"
   ]
  },
  {
   "cell_type": "markdown",
   "id": "7e28d218-b8c3-43c8-a53b-96ce26e28103",
   "metadata": {},
   "source": [
    "14. Check if a tuple is empty."
   ]
  },
  {
   "cell_type": "code",
   "execution_count": 21,
   "id": "cbbbd2c5-6c2a-4df9-b275-c07c3265b7a8",
   "metadata": {},
   "outputs": [
    {
     "name": "stdout",
     "output_type": "stream",
     "text": [
      "its empty\n",
      "not empty\n"
     ]
    }
   ],
   "source": [
    "empty_tuple = ()\n",
    "no_empty_tuple = (1,2,3)\n",
    "\n",
    "if not empty_tuple:\n",
    "    print(\"its empty\")\n",
    "else:\n",
    "    print(\"not empty\")\n",
    "\n",
    "if not no_empty_tuple:\n",
    "    print(\"tuple empty\")\n",
    "else:\n",
    "    print(\"not empty\")"
   ]
  },
  {
   "cell_type": "markdown",
   "id": "6b939ec9-b1f7-47ee-9ce2-707210ff0c74",
   "metadata": {},
   "source": [
    "15. Create a nested tuple."
   ]
  },
  {
   "cell_type": "code",
   "execution_count": 24,
   "id": "3a7107b5-ca76-4642-aaf7-09186042b917",
   "metadata": {},
   "outputs": [
    {
     "name": "stdout",
     "output_type": "stream",
     "text": [
      "Nested Tuple: ((1, 2, 3), ('a', 'b', 'c'), (True, False))\n"
     ]
    }
   ],
   "source": [
    "nested_tuple = ((1,2,3),(\"a\",\"b\",\"c\"),(True,False))\n",
    "print(\"Nested Tuple:\", nested_tuple)"
   ]
  },
  {
   "cell_type": "markdown",
   "id": "3e3ba154-3e34-4bb6-89c6-85ca4a938074",
   "metadata": {},
   "source": [
    "17. Create a tuple with a single element."
   ]
  },
  {
   "cell_type": "code",
   "execution_count": 7,
   "id": "71b9e1ab-282c-4fc2-b26c-5697068bacc7",
   "metadata": {},
   "outputs": [
    {
     "name": "stdout",
     "output_type": "stream",
     "text": [
      "<class 'tuple'>\n",
      "Single Element: (10,)\n"
     ]
    }
   ],
   "source": [
    "element1 = (10,)\n",
    "print(type(element1))\n",
    "print(\"Single Element:\", element1)"
   ]
  },
  {
   "cell_type": "markdown",
   "id": "340c98e3-7aff-4ad3-bfc8-d5afba38f521",
   "metadata": {},
   "source": [
    "18. Compare two tuples."
   ]
  },
  {
   "cell_type": "code",
   "execution_count": 10,
   "id": "9fa48dfb-18b6-40f2-af3b-61c1a9c1a926",
   "metadata": {},
   "outputs": [
    {
     "name": "stdout",
     "output_type": "stream",
     "text": [
      "<class 'tuple'>\n",
      "tuple1 == tuple2 False\n",
      "tuple1 != tuple2 True\n",
      "tuple1 > tuple2 False\n",
      "tuple1 >= tuple2 False\n",
      "tuple1 < tuple2 True\n",
      "tuple1 <= tuple2 True\n"
     ]
    }
   ],
   "source": [
    "tuple1 =(1,2,3)\n",
    "tuple2 =(1,2,4)\n",
    "\n",
    "print(\"tuple1 == tuple2\", tuple1 == tuple2)\n",
    "print(\"tuple1 != tuple2\", tuple1 != tuple2)\n",
    "print(\"tuple1 > tuple2\", tuple1 > tuple2)\n",
    "print(\"tuple1 >= tuple2\", tuple1 >= tuple2)\n",
    "print(\"tuple1 < tuple2\", tuple1 < tuple2)\n",
    "print(\"tuple1 <= tuple2\", tuple1 <= tuple2)"
   ]
  },
  {
   "cell_type": "markdown",
   "id": "be00ae92-7733-49c8-9b41-feec86399ee7",
   "metadata": {},
   "source": [
    "19. Delete a tuple."
   ]
  },
  {
   "cell_type": "code",
   "execution_count": 22,
   "id": "349c27a4-d8b3-4e74-8fa9-c120cadd25b8",
   "metadata": {},
   "outputs": [
    {
     "ename": "NameError",
     "evalue": "name 'tuple1' is not defined",
     "output_type": "error",
     "traceback": [
      "\u001b[0;31m---------------------------------------------------------------------------\u001b[0m",
      "\u001b[0;31mNameError\u001b[0m                                 Traceback (most recent call last)",
      "Cell \u001b[0;32mIn[22], line 3\u001b[0m\n\u001b[1;32m      1\u001b[0m tuple1 \u001b[38;5;241m=\u001b[39m (\u001b[38;5;241m1\u001b[39m,\u001b[38;5;241m2\u001b[39m,\u001b[38;5;241m3\u001b[39m)\n\u001b[1;32m      2\u001b[0m \u001b[38;5;28;01mdel\u001b[39;00m tuple1\n\u001b[0;32m----> 3\u001b[0m \u001b[38;5;28mprint\u001b[39m(\u001b[43mtuple1\u001b[49m)\n",
      "\u001b[0;31mNameError\u001b[0m: name 'tuple1' is not defined"
     ]
    }
   ],
   "source": [
    "tuple1 = (1,2,3)\n",
    "del tuple1\n",
    "print(tuple1)"
   ]
  },
  {
   "cell_type": "markdown",
   "id": "95a9d6c8-ecd7-4345-a672-2ea6a1603799",
   "metadata": {},
   "source": [
    "20. Slice a tuple."
   ]
  },
  {
   "cell_type": "code",
   "execution_count": 24,
   "id": "7d7e8354-5d02-4a7a-9d25-ee2b59afbe67",
   "metadata": {},
   "outputs": [
    {
     "name": "stdout",
     "output_type": "stream",
     "text": [
      "(3, 4, 5, 6)\n"
     ]
    }
   ],
   "source": [
    "tuple1 = (1,2,3,4,5,6,7,8,9)\n",
    "slice = tuple1[2:6]\n",
    "print(slice)"
   ]
  },
  {
   "cell_type": "markdown",
   "id": "c59a050a-6ee3-4d74-9acb-dc7383328f3a",
   "metadata": {},
   "source": [
    "21. Find the maximum value in a tuple."
   ]
  },
  {
   "cell_type": "code",
   "execution_count": 27,
   "id": "c0e3afc4-9f96-4719-b9e2-e89415053d7a",
   "metadata": {},
   "outputs": [
    {
     "name": "stdout",
     "output_type": "stream",
     "text": [
      "86\n"
     ]
    }
   ],
   "source": [
    "tuple1 = 1,2,3,4,5,6,7,35,43,86,23\n",
    "tuple11 = max(tuple1)\n",
    "print(tuple11)\n"
   ]
  },
  {
   "cell_type": "markdown",
   "id": "2f76ea9c-1dd3-4b1c-9214-4ec369f49132",
   "metadata": {},
   "source": [
    "22. Find the minimum value in a tuple."
   ]
  },
  {
   "cell_type": "code",
   "execution_count": 28,
   "id": "8a87535e-ca5d-4d1c-b1bd-945d1d549a03",
   "metadata": {},
   "outputs": [
    {
     "name": "stdout",
     "output_type": "stream",
     "text": [
      "2\n"
     ]
    }
   ],
   "source": [
    "tuple1 = 2,3,4,5,6,7,35,43,86,23\n",
    "tuple22 = min(tuple1)\n",
    "print(tuple22)"
   ]
  },
  {
   "cell_type": "markdown",
   "id": "333ffac1-be78-4445-80b7-d7331dde00dd",
   "metadata": {},
   "source": [
    "23. Convert a string to a tuple of characters."
   ]
  },
  {
   "cell_type": "code",
   "execution_count": 30,
   "id": "2911e601-a520-4fcf-8528-aad50ec58a55",
   "metadata": {},
   "outputs": [
    {
     "name": "stdout",
     "output_type": "stream",
     "text": [
      "String to tuple: ('H', 'e', 'l', 'l', 'o', ' ', 'W', 'o', 'r', 'l', 'd')\n"
     ]
    }
   ],
   "source": [
    "string1 = \"Hello World\"\n",
    "tuple1 = tuple(string1)\n",
    "\n",
    "print(\"String to tuple:\", tuple1)"
   ]
  },
  {
   "cell_type": "markdown",
   "id": "075e14d5-a768-4280-bfd6-3566ba2912af",
   "metadata": {},
   "source": [
    "24. Convert a tuple of characters to a string."
   ]
  },
  {
   "cell_type": "code",
   "execution_count": 37,
   "id": "0e8b2c5a-2211-41a6-9efd-659ea6ee34a7",
   "metadata": {},
   "outputs": [
    {
     "name": "stdout",
     "output_type": "stream",
     "text": [
      "H e l l o   W o r l d\n"
     ]
    }
   ],
   "source": [
    "tuple1 = ('H', 'e', 'l', 'l', 'o', ' ', 'W', 'o', 'r', 'l', 'd')\n",
    "string1 = ' '.join(tuple1)\n",
    "print(string1)"
   ]
  },
  {
   "cell_type": "markdown",
   "id": "a1493b7f-8b07-490c-92ca-1f10e9c25a87",
   "metadata": {},
   "source": [
    "25. Create a tuple from multiple data types."
   ]
  },
  {
   "cell_type": "code",
   "execution_count": 39,
   "id": "99a1f162-1ec4-42cd-93f2-0691c0fa68c8",
   "metadata": {},
   "outputs": [
    {
     "name": "stdout",
     "output_type": "stream",
     "text": [
      "(1, 2, 3, 'sidd', True)\n"
     ]
    }
   ],
   "source": [
    "tuple1 = (1,2,3, \"sidd\" , True)\n",
    "print(tuple1)"
   ]
  },
  {
   "cell_type": "markdown",
   "id": "186954d1-e222-4e4f-9dfe-1f598da11b05",
   "metadata": {},
   "source": [
    "26. Check if two tuples are identical."
   ]
  },
  {
   "cell_type": "code",
   "execution_count": 41,
   "id": "7c119169-b59f-4f07-ba53-3c1b68ddb5f1",
   "metadata": {},
   "outputs": [
    {
     "name": "stdout",
     "output_type": "stream",
     "text": [
      "tuple1 and tuple2 are identical: True\n",
      "tuple1 and tuple3 are identical: False\n"
     ]
    }
   ],
   "source": [
    "tuple1 = (1,2,3)\n",
    "tuple2 = (1,2,3)\n",
    "tuple3 = (4,5,6)\n",
    "\n",
    "iden1 = tuple1 == tuple2\n",
    "iden2 = tuple1 == tuple3\n",
    "\n",
    "print(\"tuple1 and tuple2 are identical:\", iden1)\n",
    "print(\"tuple1 and tuple3 are identical:\", iden2)"
   ]
  },
  {
   "cell_type": "markdown",
   "id": "c69e728e-a031-48da-a681-4811b43b9167",
   "metadata": {},
   "source": [
    "27. Sort the elements of a tuple."
   ]
  },
  {
   "cell_type": "code",
   "execution_count": 45,
   "id": "25945123-b771-43b6-a641-233fe2f9a8ad",
   "metadata": {},
   "outputs": [
    {
     "name": "stdout",
     "output_type": "stream",
     "text": [
      "(1, 2, 3, 3, 5, 6, 6, 7, 7, 7, 8)\n"
     ]
    }
   ],
   "source": [
    "tuple1 = (1,3,5,2,3,6,7,8,7,7,6)\n",
    "sortedt = tuple(sorted(tuple1))\n",
    "print(sortedt)"
   ]
  },
  {
   "cell_type": "markdown",
   "id": "fb4ee35a-d8fa-4333-ac36-a08efd138852",
   "metadata": {},
   "source": [
    "28. Convert a tuple of integers to a tuple of strings."
   ]
  },
  {
   "cell_type": "code",
   "execution_count": 48,
   "id": "f45e5249-23f5-4bf4-88db-babe48587de3",
   "metadata": {},
   "outputs": [
    {
     "name": "stdout",
     "output_type": "stream",
     "text": [
      "('1', '2', '3', '4', '5', '6')\n"
     ]
    }
   ],
   "source": [
    "tuple_int = (1,2,3,4,5,6)\n",
    "t_string = tuple(str(items) for items in tuple_int)\n",
    "print(t_string)"
   ]
  },
  {
   "cell_type": "markdown",
   "id": "c3d25923-3bde-4e1f-951e-0b9d992b9034",
   "metadata": {},
   "source": [
    "29. Convert a tuple of strings to a tuple of integers."
   ]
  },
  {
   "cell_type": "code",
   "execution_count": 50,
   "id": "aa2ec0b2-0f71-4dd6-900e-7c55c172de9e",
   "metadata": {},
   "outputs": [
    {
     "name": "stdout",
     "output_type": "stream",
     "text": [
      "(10, 20, 30, 40, 50)\n"
     ]
    }
   ],
   "source": [
    "tuple_of_strings = ('10', '20', '30', '40', '50')\n",
    "tuple_of_integers = tuple(int(items) for items in tuple_of_strings)\n",
    "print(tuple_of_integers)"
   ]
  },
  {
   "cell_type": "markdown",
   "id": "f6c63e43-1594-40d5-8050-6be535eb2371",
   "metadata": {},
   "source": [
    "30. Merge two tuples."
   ]
  },
  {
   "cell_type": "code",
   "execution_count": 51,
   "id": "ae4744a0-0c0e-4dd0-b2ff-7eef04048430",
   "metadata": {},
   "outputs": [
    {
     "name": "stdout",
     "output_type": "stream",
     "text": [
      "(1, 2, 3, 4, 5, 6)\n"
     ]
    }
   ],
   "source": [
    "tuple1 = (1,2,3)\n",
    "tuple2 = (4,5,6)\n",
    "merged_tuple = tuple1 + tuple2\n",
    "print(merged_tuple)"
   ]
  },
  {
   "cell_type": "markdown",
   "id": "e678751a-27b2-4bb7-8922-d54e71e20332",
   "metadata": {},
   "source": [
    "31. Flatten a nested tuple."
   ]
  },
  {
   "cell_type": "code",
   "execution_count": 4,
   "id": "1e46f471-7051-4a71-9f34-99b0b479f6c3",
   "metadata": {},
   "outputs": [
    {
     "name": "stdout",
     "output_type": "stream",
     "text": [
      "Flatten Tuple: (1, 2, 3, 4, 5, 6, 7, 8, 9, 10)\n"
     ]
    }
   ],
   "source": [
    "nested_tuple = ((1,2,3),(4,5,6),(7,8,(9,10)))\n",
    "\n",
    "\n",
    "def flatten_tuple(nested_tuple):\n",
    "    flattened = []\n",
    "    for item in nested_tuple:\n",
    "        if isinstance(item, tuple):\n",
    "            flattened.extend(flatten_tuple(item))\n",
    "        else:\n",
    "            flattened.append(item)\n",
    "    return flattened\n",
    "\n",
    "flattened_tuple = tuple(flatten_tuple(nested_tuple))\n",
    "print(\"Flatten Tuple:\", flattened_tuple)\n",
    "\n",
    "            \n",
    "        \n",
    "    "
   ]
  },
  {
   "cell_type": "markdown",
   "id": "749c94bd-a7b7-4d31-bc9e-97710739db70",
   "metadata": {},
   "source": [
    "32. Create a tuple of the first 5 prime numbers."
   ]
  },
  {
   "cell_type": "code",
   "execution_count": 5,
   "id": "ad38a3e0-1bf5-4790-8d27-4197b35a31e3",
   "metadata": {},
   "outputs": [
    {
     "name": "stdout",
     "output_type": "stream",
     "text": [
      "First 5 prime number: (2, 3, 5, 7, 11)\n"
     ]
    }
   ],
   "source": [
    "def is_prime(num):\n",
    "    if num <= 1:\n",
    "        return False\n",
    "    for i in range(2, int(num ** 0.5) + 1):\n",
    "        if num % i == 0:\n",
    "            return False\n",
    "    return True\n",
    "\n",
    "prime_number = [num for num in range(2, 100) if is_prime(num)][:5]\n",
    "prime_number_tuple = tuple(prime_number)\n",
    "print(\"First 5 prime number:\", prime_number_tuple)\n",
    "    \n",
    "    "
   ]
  },
  {
   "cell_type": "markdown",
   "id": "67d93fd9-76b5-47b4-b276-5fc134175e13",
   "metadata": {},
   "source": [
    "33. Check if a tuple is a palindrome."
   ]
  },
  {
   "cell_type": "code",
   "execution_count": 7,
   "id": "bfe73f7a-beeb-4755-93ad-820efbc5629c",
   "metadata": {},
   "outputs": [
    {
     "name": "stdout",
     "output_type": "stream",
     "text": [
      "palindrome_tuple is a palindrome: True\n",
      "non_palindrome_tuple is a palindrome: False\n"
     ]
    }
   ],
   "source": [
    "def is_palindrome(tup):\n",
    "    return tup == tup[::-1]\n",
    "\n",
    "palindrome_tuple = (1,2,3,2,1)\n",
    "non_palindrome_tuple = (1,2,3,4,5)\n",
    "\n",
    "is_palindrome1 = is_palindrome(palindrome_tuple) \n",
    "is_palindrome2 = is_palindrome(non_palindrome_tuple)\n",
    "\n",
    "print(\"palindrome_tuple is a palindrome:\", is_palindrome1)\n",
    "print(\"non_palindrome_tuple is a palindrome:\", is_palindrome2)"
   ]
  },
  {
   "cell_type": "markdown",
   "id": "e10682e6-00ef-4ed9-b134-e117ea760a56",
   "metadata": {},
   "source": [
    "34. Create a tuple of squares of numbers from 1 to 5."
   ]
  },
  {
   "cell_type": "code",
   "execution_count": 11,
   "id": "12208199-b210-4192-affc-30599aa3a488",
   "metadata": {},
   "outputs": [
    {
     "name": "stdout",
     "output_type": "stream",
     "text": [
      "(2, 4, 6, 8, 10)\n"
     ]
    }
   ],
   "source": [
    "square_tuple = tuple(x * 2 for x in range(1,6))\n",
    "\n",
    "print(square_tuple)"
   ]
  },
  {
   "cell_type": "markdown",
   "id": "9066fe48-87a9-4af9-b52a-abcb35ea959d",
   "metadata": {},
   "source": [
    "35. Filter out all even numbers from a tuple."
   ]
  },
  {
   "cell_type": "code",
   "execution_count": 12,
   "id": "f770a21e-53bb-40d1-959a-7638ecb43ff4",
   "metadata": {},
   "outputs": [
    {
     "name": "stdout",
     "output_type": "stream",
     "text": [
      "(1, 3, 5, 7, 9)\n"
     ]
    }
   ],
   "source": [
    "tuple1 = (1,2,3,4,5,6,7,8,9,10)\n",
    "even_tuple = tuple(num for num in tuple1 if num % 2 != 0)\n",
    "print(even_tuple)"
   ]
  },
  {
   "cell_type": "markdown",
   "id": "3e63b81b-36ac-4faf-b94a-f303056aa976",
   "metadata": {},
   "source": [
    "36. Multiply all elements in a tuple by 2."
   ]
  },
  {
   "cell_type": "code",
   "execution_count": 17,
   "id": "636150ae-3e5f-46f5-82bc-3edaffa81e76",
   "metadata": {},
   "outputs": [
    {
     "name": "stdout",
     "output_type": "stream",
     "text": [
      "(2, 4, 6, 8, 10)\n"
     ]
    }
   ],
   "source": [
    "tuple1 = (1,2,3,4,5)\n",
    "tuple2 = tuple(num*2 for num in tuple1)\n",
    "print(tuple2)"
   ]
  },
  {
   "cell_type": "markdown",
   "id": "965bda69-375f-4bb3-bd68-4c50905a5033",
   "metadata": {},
   "source": [
    "37. Create a tuple of random numbers."
   ]
  },
  {
   "cell_type": "code",
   "execution_count": 18,
   "id": "9c4d1530-54ed-4361-82dc-1da865512d85",
   "metadata": {},
   "outputs": [
    {
     "name": "stdout",
     "output_type": "stream",
     "text": [
      "(13, 27, 22, 34, 24, 35, 84, 100, 67, 98)\n"
     ]
    }
   ],
   "source": [
    "import random\n",
    "random_tuple = tuple(random.randint(1,100) for _ in range(10))\n",
    "print(random_tuple)"
   ]
  },
  {
   "cell_type": "markdown",
   "id": "d0237641-093f-43e7-af83-8ca8649f0621",
   "metadata": {},
   "source": [
    "38. Check if a tuple is sorted."
   ]
  },
  {
   "cell_type": "code",
   "execution_count": 21,
   "id": "42ef63b6-7811-4ee9-bd73-cfa828ec9c86",
   "metadata": {},
   "outputs": [
    {
     "name": "stdout",
     "output_type": "stream",
     "text": [
      "sorted_tuple is sorted: True\n",
      "unsorted_tuple is sorted: False\n"
     ]
    }
   ],
   "source": [
    "def is_sorted(tup):\n",
    "    for i in range(len(tup) -1):\n",
    "        if tup[i] > tup[i+1]:\n",
    "            return False\n",
    "    return True    \n",
    "\n",
    "    \n",
    "sorted_tuple = (1, 2, 3, 4, 5)\n",
    "unsorted_tuple = (5, 3, 1, 4, 2)\n",
    "\n",
    "is_sorted1 = is_sorted(sorted_tuple)\n",
    "is_sorted2 = is_sorted(unsorted_tuple)\n",
    "            \n",
    "        \n",
    "print(\"sorted_tuple is sorted:\", is_sorted1)\n",
    "print(\"unsorted_tuple is sorted:\", is_sorted2)    \n",
    "        "
   ]
  },
  {
   "cell_type": "markdown",
   "id": "86d9236b-2dd1-4911-85bb-0e53a71dde2f",
   "metadata": {},
   "source": [
    "39. Rotate a tuple to the left by `n` positions."
   ]
  },
  {
   "cell_type": "code",
   "execution_count": 22,
   "id": "9676f820-952c-456c-9496-2cfa4afe7145",
   "metadata": {},
   "outputs": [
    {
     "name": "stdout",
     "output_type": "stream",
     "text": [
      "(3, 4, 5, 1, 2)\n"
     ]
    }
   ],
   "source": [
    "def rotate_tuple_left(tup, n):\n",
    "    n = n % len(tup)\n",
    "    rotated_tuple = tup[n:] + tup[:n]\n",
    "    return rotated_tuple\n",
    "my_tuple = (1, 2, 3, 4, 5)\n",
    "n_positions = 2\n",
    "result = rotate_tuple_left(my_tuple, n_positions)\n",
    "print(result)"
   ]
  },
  {
   "cell_type": "markdown",
   "id": "8adfb2ae-1af9-4802-b1df-dd3ee35362f8",
   "metadata": {},
   "source": [
    "40. Rotate a tuple to the right by `n` positions."
   ]
  },
  {
   "cell_type": "code",
   "execution_count": 24,
   "id": "702bc027-66ee-436d-bc4d-521c300c7f07",
   "metadata": {},
   "outputs": [
    {
     "name": "stdout",
     "output_type": "stream",
     "text": [
      "(4, 5, 1, 2, 3)\n"
     ]
    }
   ],
   "source": [
    "def rotate_tuple_right(tup, n):\n",
    "    n = n % len(tup)\n",
    "    rotated_tuple = tup[-n:] + tup[:-n]\n",
    "    return rotated_tuple\n",
    "my_tuple = (1, 2, 3, 4, 5)\n",
    "n_positions = 2\n",
    "result = rotate_tuple_right(my_tuple, n_positions)\n",
    "print(result)"
   ]
  },
  {
   "cell_type": "markdown",
   "id": "667ce8b5-cff1-4e96-9783-be29700b7206",
   "metadata": {},
   "source": [
    "41. Create a tuple of the first 5 Fibonacci numbers."
   ]
  },
  {
   "cell_type": "code",
   "execution_count": 25,
   "id": "6f8c4c61-863a-4430-975b-4a77631fdbdc",
   "metadata": {},
   "outputs": [
    {
     "name": "stdout",
     "output_type": "stream",
     "text": [
      "(0, 1, 1, 2, 3)\n"
     ]
    }
   ],
   "source": [
    "def generate_fibonacci(n):\n",
    "    fibonacci = [0, 1]\n",
    "    while len(fibonacci) < n:\n",
    "        next_fibonacci = fibonacci[-1] + fibonacci[-2]\n",
    "        fibonacci.append(next_fibonacci)\n",
    "    return tuple(fibonacci)\n",
    "\n",
    "fibonacci_tuple = generate_fibonacci(5)\n",
    "print(fibonacci_tuple)\n",
    "\n"
   ]
  },
  {
   "cell_type": "markdown",
   "id": "9cb32a75-0fb4-4027-8752-7c840a8d8c31",
   "metadata": {},
   "source": [
    "42. Create a tuple from user input."
   ]
  },
  {
   "cell_type": "code",
   "execution_count": 29,
   "id": "13fb51c5-3f1f-4dbe-a7d2-d3248a9bb66e",
   "metadata": {},
   "outputs": [
    {
     "name": "stdin",
     "output_type": "stream",
     "text": [
      "Enter string with , : s,e,r,,t,y,y,u,\n"
     ]
    },
    {
     "name": "stdout",
     "output_type": "stream",
     "text": [
      "User input tuple: ('s', 'e', 'r', '', 't', 'y', 'y', 'u', '')\n"
     ]
    }
   ],
   "source": [
    "input_str = input(\"Enter string with , :\")\n",
    "\n",
    "input_list = input_str.split(',')\n",
    "\n",
    "user_tuple = tuple(input_list)\n",
    "\n",
    "print(\"User input tuple:\", user_tuple)"
   ]
  },
  {
   "cell_type": "markdown",
   "id": "20eef81e-3562-4a34-95c2-c129aaa412a6",
   "metadata": {},
   "source": [
    "43. Swap two elements in a tuple."
   ]
  },
  {
   "cell_type": "code",
   "execution_count": 31,
   "id": "5d8654bd-8bcf-4145-b7f0-98a5c0b737af",
   "metadata": {},
   "outputs": [
    {
     "name": "stdout",
     "output_type": "stream",
     "text": [
      "Swapped tuple: (1, 4, 3, 2, 5)\n"
     ]
    }
   ],
   "source": [
    "my_tuple = (1,2,3,4,5)\n",
    "index1 = 1\n",
    "index2 = 3\n",
    "swapped_tuple = tuple(\n",
    "    my_tuple[i] if i not in (index1, index2) else\n",
    "    my_tuple[index2] if i == index1 else\n",
    "    my_tuple[index1]\n",
    "    for i in range(len(my_tuple))\n",
    ")\n",
    "\n",
    "print(\"Swapped tuple:\", swapped_tuple)\n",
    "            "
   ]
  },
  {
   "cell_type": "markdown",
   "id": "5b2cd96e-0733-4e1c-9259-9d858a4e8def",
   "metadata": {},
   "source": [
    "44. Reverse the elements of a tuple."
   ]
  },
  {
   "cell_type": "code",
   "execution_count": 32,
   "id": "f008d201-8e46-47ba-b86b-62b7de605549",
   "metadata": {},
   "outputs": [
    {
     "name": "stdout",
     "output_type": "stream",
     "text": [
      "(7, 6, 5, 4, 3, 2, 1)\n"
     ]
    }
   ],
   "source": [
    "my_tuple = (1,2,3,4,5,6,7)\n",
    "\n",
    "reverse = my_tuple[::-1]\n",
    "print(reverse)"
   ]
  },
  {
   "cell_type": "markdown",
   "id": "597a6f18-2b66-4e61-b772-7199683be354",
   "metadata": {},
   "source": [
    "45. Create a tuple of the first `n` powers of 2."
   ]
  },
  {
   "cell_type": "code",
   "execution_count": 34,
   "id": "2e5ad6a2-1af2-4a57-a885-75a0728e6bcb",
   "metadata": {},
   "outputs": [
    {
     "name": "stdout",
     "output_type": "stream",
     "text": [
      "(0, 2, 4, 6, 8, 10)\n"
     ]
    }
   ],
   "source": [
    "n = 6\n",
    "\n",
    "power_of_two = tuple(i * 2 for i in range(n))\n",
    "print(power_of_two)"
   ]
  },
  {
   "cell_type": "markdown",
   "id": "48ee2d7a-ec75-47ab-938f-9708f432bb14",
   "metadata": {},
   "source": [
    "46. Find the longest string in a tuple of strings."
   ]
  },
  {
   "cell_type": "code",
   "execution_count": 36,
   "id": "bcd1ffa1-6012-4e7c-86be-8cb1765cbfae",
   "metadata": {},
   "outputs": [
    {
     "name": "stdout",
     "output_type": "stream",
     "text": [
      "watermelon\n"
     ]
    }
   ],
   "source": [
    "string_tuple = (\"apple\", \"banana\", \"grape\", \"kiwi\", \"watermelon\")\n",
    "\n",
    "length_string = max(string_tuple, key=len)\n",
    "\n",
    "print(length_string)"
   ]
  },
  {
   "cell_type": "markdown",
   "id": "a19cebf7-4dac-4644-9140-6d35516c8514",
   "metadata": {},
   "source": [
    "47. Find the shortest string in a tuple of strings."
   ]
  },
  {
   "cell_type": "code",
   "execution_count": 37,
   "id": "c9e9b982-a0ad-4fc0-b2fd-e19f6fc7eb92",
   "metadata": {},
   "outputs": [
    {
     "name": "stdout",
     "output_type": "stream",
     "text": [
      "kiwi\n"
     ]
    }
   ],
   "source": [
    "string_tuple = (\"apple\", \"banana\", \"grape\", \"kiwi\", \"watermelon\")\n",
    "\n",
    "length_string = min(string_tuple, key=len)\n",
    "\n",
    "print(length_string)"
   ]
  },
  {
   "cell_type": "markdown",
   "id": "9db08705-747a-4830-a277-4f3f7f5d4e31",
   "metadata": {},
   "source": [
    "48. Create a tuple of the first `n` triangular numbers."
   ]
  },
  {
   "cell_type": "code",
   "execution_count": 38,
   "id": "c1626332-6d53-4ae4-8482-f3225856d9bb",
   "metadata": {},
   "outputs": [
    {
     "name": "stdout",
     "output_type": "stream",
     "text": [
      "Tuple of the first 5 triangular numbers: (1, 3, 6, 10, 15)\n"
     ]
    }
   ],
   "source": [
    "n = 5\n",
    "\n",
    "triangular_numbers_tuple = tuple((i * (i + 1)) // 2 for i in range(1, n + 1))\n",
    "\n",
    "print(\"Tuple of the first\", n, \"triangular numbers:\", triangular_numbers_tuple)"
   ]
  },
  {
   "cell_type": "markdown",
   "id": "0dbfdaaa-2863-453c-9380-2ec33b72bca6",
   "metadata": {},
   "source": [
    "49. Check if a tuple contains another tuple as a subsequence."
   ]
  },
  {
   "cell_type": "code",
   "execution_count": 40,
   "id": "a3a1277e-6f1c-4f8a-8b60-7f3cd0e29557",
   "metadata": {},
   "outputs": [
    {
     "name": "stdout",
     "output_type": "stream",
     "text": [
      "Main tuple contains subsequence tuple: True\n"
     ]
    }
   ],
   "source": [
    "def contains_subsequence(main_tuple, sub_tuple):\n",
    "    sub_length = len(sub_tuple)\n",
    "    for i in range(len(main_tuple) - sub_length + 1):\n",
    "        if main_tuple[i:i+sub_length] == sub_tuple:\n",
    "            return True\n",
    "    return False\n",
    "\n",
    "main_tuple = (1, 2, 3, 4, 5, 6, 7, 8, 9)\n",
    "\n",
    "sub_tuple = (3, 4, 5)\n",
    "\n",
    "contains_subseq = contains_subsequence(main_tuple, sub_tuple)\n",
    "\n",
    "print(\"Main tuple contains subsequence tuple:\", contains_subseq)\n",
    "    "
   ]
  },
  {
   "cell_type": "markdown",
   "id": "420ee701-2737-46d6-986a-c53d1603227e",
   "metadata": {},
   "source": [
    "50. Create a tuple of alternating 1s and 0s of length `n`."
   ]
  },
  {
   "cell_type": "code",
   "execution_count": 42,
   "id": "c01c8159-8209-4eda-8372-360eef8f26c4",
   "metadata": {},
   "outputs": [
    {
     "name": "stdout",
     "output_type": "stream",
     "text": [
      "Tuple of alternating 1s and 0s: (0, 1, 0, 1, 0, 1, 0, 1, 0, 1)\n"
     ]
    }
   ],
   "source": [
    "n = 10\n",
    "\n",
    "alternate_tuple = tuple(i%2 for i in range(n))\n",
    "\n",
    "print(\"Tuple of alternating 1s and 0s:\", alternate_tuple)"
   ]
  },
  {
   "cell_type": "code",
   "execution_count": null,
   "id": "5152f04b-b812-4205-aa25-aebdf1d91d17",
   "metadata": {},
   "outputs": [],
   "source": []
  },
  {
   "cell_type": "code",
   "execution_count": null,
   "id": "e2a60581-5b7b-48e2-ab13-8ddd34d354af",
   "metadata": {},
   "outputs": [],
   "source": []
  },
  {
   "cell_type": "code",
   "execution_count": null,
   "id": "8da800c9-5ac7-4cbf-9ead-0e9f047ee91a",
   "metadata": {},
   "outputs": [],
   "source": []
  },
  {
   "cell_type": "markdown",
   "id": "9960f391-1413-4c9e-82af-3d5e20861aec",
   "metadata": {},
   "source": [
    "Set Based Practice Problem :"
   ]
  },
  {
   "cell_type": "markdown",
   "id": "df4d9434-b564-44e4-b547-eb433490acca",
   "metadata": {},
   "source": [
    "1. Create a set with integers from 1 to 5."
   ]
  },
  {
   "cell_type": "code",
   "execution_count": 5,
   "id": "d7706409-52fa-417f-a243-a0beffa75ad7",
   "metadata": {},
   "outputs": [
    {
     "name": "stdout",
     "output_type": "stream",
     "text": [
      "{1, 2, 3, 4, 5}\n"
     ]
    }
   ],
   "source": [
    "my_set = set()\n",
    "\n",
    "my_set.add(1)\n",
    "my_set.add(2)\n",
    "my_set.add(3)\n",
    "my_set.add(4)\n",
    "my_set.add(5)\n",
    "print(my_set)\n",
    "\n"
   ]
  },
  {
   "cell_type": "markdown",
   "id": "ae0d2526-3ac2-4729-9b33-a9a5cd4b31bf",
   "metadata": {},
   "source": [
    "2. Add an element to a set."
   ]
  },
  {
   "cell_type": "code",
   "execution_count": 8,
   "id": "f70a83ba-8ee5-443e-8b82-8e3741c03d8d",
   "metadata": {},
   "outputs": [
    {
     "name": "stdout",
     "output_type": "stream",
     "text": [
      "{1, 2, 3, 4}\n"
     ]
    }
   ],
   "source": [
    "my_set = {1,2,3}\n",
    "my_set.add(4)\n",
    "print(my_set)"
   ]
  },
  {
   "cell_type": "markdown",
   "id": "daafa6d3-09d6-45ff-9d61-e8c934598134",
   "metadata": {},
   "source": [
    "3. Remove an element from a set."
   ]
  },
  {
   "cell_type": "code",
   "execution_count": 13,
   "id": "c522f387-9fe7-49a8-9aa1-0923dd1cf660",
   "metadata": {},
   "outputs": [
    {
     "name": "stdout",
     "output_type": "stream",
     "text": [
      "{1, 2, 4, 5}\n"
     ]
    }
   ],
   "source": [
    "my_set = {1,2,3,4,5}\n",
    "my_set.remove(3)\n",
    "print(my_set)"
   ]
  },
  {
   "cell_type": "markdown",
   "id": "3d05892b-d709-46b7-ad71-cdf8105deffb",
   "metadata": {},
   "source": [
    "4. Check if an element exists in a set."
   ]
  },
  {
   "cell_type": "code",
   "execution_count": 16,
   "id": "42cd2088-2ebf-472f-8699-c92c2375650e",
   "metadata": {},
   "outputs": [
    {
     "name": "stdout",
     "output_type": "stream",
     "text": [
      "element 3 is present\n"
     ]
    }
   ],
   "source": [
    "my_set = {1,2,3,4,5}\n",
    "\n",
    "element_check = 3\n",
    "\n",
    "if element_check in my_set:\n",
    "    print(f\"element {element_check} is present\")\n",
    "else:\n",
    "    print(f\"element {element_check} not present\")"
   ]
  },
  {
   "cell_type": "markdown",
   "id": "2adbd49c-2439-442d-b67c-19de486434bb",
   "metadata": {},
   "source": [
    "5. Find the length of a set without using the `len()` function."
   ]
  },
  {
   "cell_type": "code",
   "execution_count": 20,
   "id": "7e2d00e8-8587-4dd1-ac50-ddcb999a2c36",
   "metadata": {},
   "outputs": [
    {
     "name": "stdout",
     "output_type": "stream",
     "text": [
      "length of set is: 6\n"
     ]
    }
   ],
   "source": [
    "my_set = {1,2,3,4,5,6}\n",
    "\n",
    "count = 0\n",
    "\n",
    "for _ in my_set:\n",
    "    count += 1\n",
    "    \n",
    "print(\"length of set is:\", count)    "
   ]
  },
  {
   "cell_type": "markdown",
   "id": "183b7c42-ab95-4892-b568-8290bb6e2945",
   "metadata": {},
   "source": [
    "6. Clear all elements from a set."
   ]
  },
  {
   "cell_type": "code",
   "execution_count": 21,
   "id": "412b89b5-23c5-4b36-9dd2-084f12680704",
   "metadata": {},
   "outputs": [
    {
     "name": "stdout",
     "output_type": "stream",
     "text": [
      "set()\n"
     ]
    }
   ],
   "source": [
    "my_set = {1,2,3,4,5}\n",
    "\n",
    "my_set.clear()\n",
    "\n",
    "print(my_set)"
   ]
  },
  {
   "cell_type": "markdown",
   "id": "5ae0af16-2a73-438d-b1ed-8ae98a342991",
   "metadata": {},
   "source": [
    "7. Create a set of even numbers from 1 to 10."
   ]
  },
  {
   "cell_type": "code",
   "execution_count": 22,
   "id": "b71d396f-249e-430c-bcc3-ed5a7e4ede75",
   "metadata": {},
   "outputs": [
    {
     "name": "stdout",
     "output_type": "stream",
     "text": [
      "even number set: {2, 4, 6, 8, 10}\n"
     ]
    }
   ],
   "source": [
    "even_number = set()\n",
    "\n",
    "for num in range(1,11):\n",
    "    if num % 2 == 0:\n",
    "        even_number.add(num)\n",
    "        \n",
    "print(\"even number set:\", even_number)        \n",
    "    "
   ]
  },
  {
   "cell_type": "markdown",
   "id": "482f13d8-04a0-4b80-8b57-4e0c1eda018b",
   "metadata": {},
   "source": [
    "8. Create a set of odd numbers from 1 to 10."
   ]
  },
  {
   "cell_type": "code",
   "execution_count": 23,
   "id": "0bb3ceb8-2072-4155-bf54-1c9638a8a358",
   "metadata": {},
   "outputs": [
    {
     "name": "stdout",
     "output_type": "stream",
     "text": [
      "odd number set: {1, 3, 5, 7, 9}\n"
     ]
    }
   ],
   "source": [
    "odd_number = set()\n",
    "for num in range(1,11):\n",
    "    if num % 2 != 0:\n",
    "        odd_number.add(num)\n",
    "print(\"odd number set:\", odd_number)        "
   ]
  },
  {
   "cell_type": "markdown",
   "id": "d2a836bf-a214-482f-8e2c-51b4c5bc126f",
   "metadata": {},
   "source": [
    "9. Find the union of two sets."
   ]
  },
  {
   "cell_type": "code",
   "execution_count": 27,
   "id": "3f3b2733-ac36-463e-8708-f22f2243e2b7",
   "metadata": {},
   "outputs": [
    {
     "name": "stdout",
     "output_type": "stream",
     "text": [
      "{1, 2, 3, 4, 5, 6}\n"
     ]
    }
   ],
   "source": [
    "set1 = {1,2,3}\n",
    "set2 = {4,5,6}\n",
    "\n",
    "set_union = set1.union(set2)\n",
    "print(set_union)"
   ]
  },
  {
   "cell_type": "markdown",
   "id": "998a8260-fe1d-4f90-82f4-3a63c4083510",
   "metadata": {},
   "source": [
    "10. Find the intersection of two sets."
   ]
  },
  {
   "cell_type": "code",
   "execution_count": 28,
   "id": "78b7556b-0b3a-4103-ba2f-b9f8d709adfd",
   "metadata": {},
   "outputs": [
    {
     "name": "stdout",
     "output_type": "stream",
     "text": [
      "{3}\n"
     ]
    }
   ],
   "source": [
    "set1 = {1,2,3}\n",
    "set2 = {3,4,5}\n",
    "\n",
    "set_intersection = set1.intersection(set2)\n",
    "\n",
    "print(set_intersection)"
   ]
  },
  {
   "cell_type": "markdown",
   "id": "f0bbaa8b-844f-45a7-9dc8-92a3eae9d62f",
   "metadata": {},
   "source": [
    "11. Find the difference between two sets."
   ]
  },
  {
   "cell_type": "code",
   "execution_count": 29,
   "id": "ad744031-91b0-4ce3-ac59-dd6d58645e57",
   "metadata": {},
   "outputs": [
    {
     "name": "stdout",
     "output_type": "stream",
     "text": [
      "{1, 2}\n"
     ]
    }
   ],
   "source": [
    "set1 = {1,2,3}\n",
    "set2 = {3,4,5}\n",
    "\n",
    "set_difference = set1.difference(set2)\n",
    "\n",
    "print(set_difference)"
   ]
  },
  {
   "cell_type": "markdown",
   "id": "339e517e-5c55-4946-a32f-f59f5f84e570",
   "metadata": {},
   "source": [
    "12. Check if a set is a subset of another set."
   ]
  },
  {
   "cell_type": "code",
   "execution_count": 34,
   "id": "d320c15a-16e9-4164-81ff-e18017b60b22",
   "metadata": {},
   "outputs": [
    {
     "name": "stdout",
     "output_type": "stream",
     "text": [
      "is set1 subset of set2: True\n"
     ]
    }
   ],
   "source": [
    "set1 = {1,2,3}\n",
    "set2 = {1,2,3,4,5,6}\n",
    "\n",
    "set_issubset = set1.issubset(set2)\n",
    "\n",
    "print(\"is set1 subset of set2:\",set_issubset)"
   ]
  },
  {
   "cell_type": "markdown",
   "id": "7c34effc-2e61-48be-841e-a47d65fefa89",
   "metadata": {},
   "source": [
    "13. Check if a set is a superset of another set."
   ]
  },
  {
   "cell_type": "code",
   "execution_count": 38,
   "id": "b88004fa-52dc-421a-bc81-06b30acfc3ec",
   "metadata": {},
   "outputs": [
    {
     "name": "stdout",
     "output_type": "stream",
     "text": [
      "is superset: True\n"
     ]
    }
   ],
   "source": [
    "set1 = {1,2,3}\n",
    "set2 = {1,2,3,4,5,6}\n",
    "\n",
    "set_superset = set2.issuperset(set1)\n",
    "\n",
    "if set_superset:\n",
    "    print(\"is superset:\",set_superset)\n",
    "else:\n",
    "    print(\"is superset:\",set_superset)"
   ]
  },
  {
   "cell_type": "markdown",
   "id": "80b24e74-cf02-4319-b08f-030c4c655ab5",
   "metadata": {},
   "source": [
    "14. Create a set from a list."
   ]
  },
  {
   "cell_type": "code",
   "execution_count": 39,
   "id": "622c5772-2c85-492b-84c6-0c99fc015c83",
   "metadata": {},
   "outputs": [
    {
     "name": "stdout",
     "output_type": "stream",
     "text": [
      "<class 'set'>\n",
      "{1, 2, 3, 4, 5}\n"
     ]
    }
   ],
   "source": [
    "my_list = [1,2,3,4,5]\n",
    "my_set = set(my_list)\n",
    "\n",
    "print(type(my_set))\n",
    "print(my_set)"
   ]
  },
  {
   "cell_type": "markdown",
   "id": "b072408e-28ef-45fc-837c-9dfe97373faa",
   "metadata": {},
   "source": [
    "15. Convert a set to a list."
   ]
  },
  {
   "cell_type": "code",
   "execution_count": 40,
   "id": "33f202ef-ea64-445b-88be-93a80e5be55d",
   "metadata": {},
   "outputs": [
    {
     "name": "stdout",
     "output_type": "stream",
     "text": [
      "<class 'list'>\n",
      "[1, 2, 3, 4, 5]\n"
     ]
    }
   ],
   "source": [
    "my_set = {1,2,3,4,5}\n",
    "my_list = list(my_set)\n",
    "\n",
    "print(type(my_list))\n",
    "print(my_list)"
   ]
  },
  {
   "cell_type": "markdown",
   "id": "0a17c394-2ad5-425c-a20b-0609353e9c5f",
   "metadata": {},
   "source": [
    "16. Remove a random element from a set."
   ]
  },
  {
   "cell_type": "code",
   "execution_count": 43,
   "id": "d2a289e1-5ae3-45ce-826e-3220b37195f6",
   "metadata": {},
   "outputs": [
    {
     "name": "stdout",
     "output_type": "stream",
     "text": [
      "Original set: {1, 2, 3, 4, 5, 6}\n",
      "Random element removed: {1, 2, 3, 5, 6}\n"
     ]
    }
   ],
   "source": [
    "import random\n",
    "\n",
    "my_set = {1,2,3,4,5,6}\n",
    "print (\"Original set:\", my_set)\n",
    "\n",
    "random_element = random.choice(list(my_set))\n",
    "\n",
    "my_set.remove(random_element)\n",
    "\n",
    "print(\"Random element removed:\", my_set)"
   ]
  },
  {
   "cell_type": "markdown",
   "id": "46bc815f-499d-4726-b601-04e82d4a3da7",
   "metadata": {},
   "source": [
    "17. Pop an element from a set."
   ]
  },
  {
   "cell_type": "code",
   "execution_count": 44,
   "id": "a4da3876-5f75-4171-881a-702e29d1bfbb",
   "metadata": {},
   "outputs": [
    {
     "name": "stdout",
     "output_type": "stream",
     "text": [
      "{2, 3, 4, 5}\n"
     ]
    }
   ],
   "source": [
    "my_set = {1,2,3,4,5}\n",
    "\n",
    "my_set.pop()\n",
    "\n",
    "print(my_set)"
   ]
  },
  {
   "cell_type": "markdown",
   "id": "dd1a58fa-cf71-443e-9a19-d67be8c2ee60",
   "metadata": {},
   "source": [
    "18. Check if two sets have no elements in common."
   ]
  },
  {
   "cell_type": "code",
   "execution_count": 47,
   "id": "a3f42f3f-b566-4f40-af13-9fe6564d29e4",
   "metadata": {},
   "outputs": [
    {
     "name": "stdout",
     "output_type": "stream",
     "text": [
      "These sets have intersection point: {4, 5, 6}\n"
     ]
    }
   ],
   "source": [
    "set1 = {1,2,3,4,5,6}\n",
    "set2 = {4,5,6,7,8,9}\n",
    "\n",
    "set_intersection = set1.intersection(set2)\n",
    "\n",
    "if not set_intersection:\n",
    "    print(\"These sets have no intersection\")\n",
    "else:\n",
    "    print(\"These sets have intersection point:\", set_intersection) "
   ]
  },
  {
   "cell_type": "markdown",
   "id": "f424b998-bd00-4fd6-b9a3-a98f65bf539b",
   "metadata": {},
   "source": [
    "19. Find the symmetric difference between two sets."
   ]
  },
  {
   "cell_type": "code",
   "execution_count": 48,
   "id": "6959063e-9f79-442b-8fd7-77a7b089f02d",
   "metadata": {},
   "outputs": [
    {
     "name": "stdout",
     "output_type": "stream",
     "text": [
      "{1, 2, 3, 7, 8, 9}\n"
     ]
    }
   ],
   "source": [
    "set1 = {1,2,3,4,5,6}\n",
    "set2 = {4,5,6,7,8,9}\n",
    "\n",
    "set_symmetry = set1 ^ set2\n",
    "\n",
    "print(set_symmetry)"
   ]
  },
  {
   "cell_type": "markdown",
   "id": "33d2346d-ce3a-4cb9-818c-57366c2723ce",
   "metadata": {},
   "source": [
    "20. Update a set with elements from another set."
   ]
  },
  {
   "cell_type": "code",
   "execution_count": 51,
   "id": "1090d26d-c16d-480d-9747-6df40f787d7b",
   "metadata": {},
   "outputs": [
    {
     "name": "stdout",
     "output_type": "stream",
     "text": [
      "Set 1: {1, 2, 3}\n",
      "Set 2: {4, 5, 6}\n",
      "Updated set: {1, 2, 3, 4, 5, 6}\n"
     ]
    }
   ],
   "source": [
    "set1 = {1,2,3}\n",
    "print(\"Set 1:\", set1)\n",
    "\n",
    "set2 = {4,5,6}\n",
    "print(\"Set 2:\", set2)\n",
    "\n",
    "set1.update(set2)\n",
    "\n",
    "print(\"Updated set:\",set1)"
   ]
  },
  {
   "cell_type": "markdown",
   "id": "33c790b8-bd9c-4d1b-a755-66688de169ff",
   "metadata": {},
   "source": [
    "21. Create a set of the first 5 prime numbers."
   ]
  },
  {
   "cell_type": "code",
   "execution_count": 53,
   "id": "911692e5-d8f6-4937-a544-99de1533bf52",
   "metadata": {},
   "outputs": [
    {
     "name": "stdout",
     "output_type": "stream",
     "text": [
      "First 5 prime number are:  {2, 3, 5, 7, 11}\n"
     ]
    }
   ],
   "source": [
    "def is_prime(num):\n",
    "    if num <= 1:\n",
    "        return False\n",
    "    for i in range(2, int(num ** 0.5) +1):\n",
    "        if num % i == 0:\n",
    "            return False\n",
    "    return True    \n",
    "\n",
    "prime_set = set()\n",
    "num = 2\n",
    "\n",
    "while len(prime_set) < 5:\n",
    "    if is_prime(num):\n",
    "        prime_set.add(num)\n",
    "        \n",
    "    num += 1\n",
    "    \n",
    "print(\"First 5 prime number are: \", prime_set)    "
   ]
  },
  {
   "cell_type": "markdown",
   "id": "8e6b7230-aa0d-4c02-9b6d-1968d0770888",
   "metadata": {},
   "source": [
    "22. Check if two sets are identical."
   ]
  },
  {
   "cell_type": "code",
   "execution_count": 54,
   "id": "7faf0a4a-e63b-4900-a487-7a0acb3a0ce2",
   "metadata": {},
   "outputs": [
    {
     "name": "stdout",
     "output_type": "stream",
     "text": [
      "Sets are identical\n"
     ]
    }
   ],
   "source": [
    "set1 = {1, 2, 3, 4, 5}\n",
    "set2 = {3, 1, 5, 2, 4} \n",
    "\n",
    "if set1 == set2:\n",
    "    print(\"Sets are identical\")\n",
    "else:\n",
    "    print(\"sets are non-identical\")\n",
    "    "
   ]
  },
  {
   "cell_type": "markdown",
   "id": "42635f11-7249-43e0-a9bd-c3ffde4229ee",
   "metadata": {},
   "source": [
    "23. Create a frozen set."
   ]
  },
  {
   "cell_type": "code",
   "execution_count": 56,
   "id": "9e61d935-bf7c-43ee-9273-ebef0088e8d4",
   "metadata": {},
   "outputs": [
    {
     "name": "stdout",
     "output_type": "stream",
     "text": [
      "Frozen Set: frozenset({1, 2, 3, 4, 5})\n"
     ]
    }
   ],
   "source": [
    "set_num = {1,2,3,4,5}\n",
    "\n",
    "frozen_set = frozenset(set_num)\n",
    "\n",
    "print(\"Frozen Set:\", frozen_set)"
   ]
  },
  {
   "cell_type": "markdown",
   "id": "93b212b9-d096-47a9-99c5-e2ea40019e41",
   "metadata": {},
   "source": [
    "24. Check if a set is disjoint with another set."
   ]
  },
  {
   "cell_type": "code",
   "execution_count": 60,
   "id": "e9e21047-f2cc-4838-93f4-4ddd6d5a8cc5",
   "metadata": {},
   "outputs": [
    {
     "name": "stdout",
     "output_type": "stream",
     "text": [
      "Is set disjointed: True\n"
     ]
    }
   ],
   "source": [
    "set1 = {1,2,3,4}\n",
    "set2 = {5,6,7,8}\n",
    "\n",
    "set_disjointed = set1.isdisjoint(set2)\n",
    "\n",
    "print(\"Is set disjointed:\", set_disjointed)"
   ]
  },
  {
   "cell_type": "markdown",
   "id": "db7efa31-7dbf-48ac-8fc1-968b6d3a7859",
   "metadata": {},
   "source": [
    "25. Create a set of squares of numbers from 1 to 5."
   ]
  },
  {
   "cell_type": "code",
   "execution_count": 61,
   "id": "8861ac59-bf2f-43c0-b016-02131d80ab57",
   "metadata": {},
   "outputs": [
    {
     "name": "stdout",
     "output_type": "stream",
     "text": [
      "Square set are: {1, 4, 9, 16, 25}\n"
     ]
    }
   ],
   "source": [
    "square_set = set()\n",
    "\n",
    "for num in range(1,6):\n",
    "    square = num ** 2\n",
    "    square_set.add(square)\n",
    "    \n",
    "print(\"Square set are:\", square_set)    "
   ]
  },
  {
   "cell_type": "markdown",
   "id": "67e2bfdd-616f-4f57-99a5-dabee3ef6379",
   "metadata": {},
   "source": [
    "26. Filter out all even numbers from a set."
   ]
  },
  {
   "cell_type": "code",
   "execution_count": 63,
   "id": "a7075900-d853-44ef-9a02-195cedfe3bf7",
   "metadata": {},
   "outputs": [
    {
     "name": "stdout",
     "output_type": "stream",
     "text": [
      "Original Set: {1, 2, 3, 4, 5, 6}\n",
      "Even Numbers Set: {2, 4, 6}\n"
     ]
    }
   ],
   "source": [
    "set1 = {1,2,3,4,5,6}\n",
    "\n",
    "even_set = set()\n",
    "\n",
    "for num in set1:\n",
    "    if num % 2 == 0:\n",
    "        even_set.add(num)\n",
    "        \n",
    "print(\"Original Set:\", set1)\n",
    "print(\"Even Numbers Set:\", even_set)        "
   ]
  },
  {
   "cell_type": "markdown",
   "id": "1e4570b6-0236-41ef-9ba4-3091e9e8f148",
   "metadata": {},
   "source": [
    "27. Multiply all elements in a set by 2."
   ]
  },
  {
   "cell_type": "code",
   "execution_count": 64,
   "id": "adb831ca-cdbe-4425-9e27-f45a2f0e2a55",
   "metadata": {},
   "outputs": [
    {
     "name": "stdout",
     "output_type": "stream",
     "text": [
      "Original Set: {1, 2, 3, 4, 5}\n",
      "Multiplied Set: {2, 4, 6, 8, 10}\n"
     ]
    }
   ],
   "source": [
    "original_set = {1,2,3,4,5}\n",
    "\n",
    "multiplied_set = set()\n",
    "\n",
    "for num in original_set:\n",
    "    multiplied_num = num * 2\n",
    "    \n",
    "    multiplied_set.add(multiplied_num)\n",
    "print(\"Original Set:\", original_set)\n",
    "\n",
    "print(\"Multiplied Set:\", multiplied_set)    \n",
    "    "
   ]
  },
  {
   "cell_type": "markdown",
   "id": "8cea43a8-766a-4546-bc5a-69e98c351418",
   "metadata": {},
   "source": [
    "28. Create a set of random numbers."
   ]
  },
  {
   "cell_type": "code",
   "execution_count": 2,
   "id": "5d879421-5a01-49e2-a2d7-f758da583188",
   "metadata": {},
   "outputs": [
    {
     "name": "stdout",
     "output_type": "stream",
     "text": [
      "Set of random number {67, 5, 40, 50, 19}\n"
     ]
    }
   ],
   "source": [
    "import random\n",
    "\n",
    "num_random_number = 5\n",
    "\n",
    "random_number_set = set()\n",
    "for _ in range(num_random_number):\n",
    "    random_num = random.randint(1,100)\n",
    "    random_number_set.add(random_num)\n",
    "    \n",
    "print(\"Set of random number\", random_number_set)    \n",
    "\n"
   ]
  },
  {
   "cell_type": "markdown",
   "id": "cac1396a-722b-42a3-a390-1c34dfb49edf",
   "metadata": {},
   "source": [
    "29. Check if a set is empty."
   ]
  },
  {
   "cell_type": "code",
   "execution_count": 7,
   "id": "4a913129-0943-45b9-904e-0790c2721041",
   "metadata": {},
   "outputs": [
    {
     "name": "stdout",
     "output_type": "stream",
     "text": [
      "Set is empty\n"
     ]
    }
   ],
   "source": [
    "my_set = set()\n",
    "\n",
    "if not my_set:\n",
    "    print(\"Set is empty\")\n",
    "else:\n",
    "    print(\"Set is not empty\")"
   ]
  },
  {
   "cell_type": "markdown",
   "id": "805fb8d6-fb1c-4d52-89fc-5f5ae2566cd8",
   "metadata": {},
   "source": [
    "30. Create a nested set (hint: use frozenset)."
   ]
  },
  {
   "cell_type": "code",
   "execution_count": 9,
   "id": "c9be7686-f0ab-4877-9f77-a7a0ef2731f5",
   "metadata": {},
   "outputs": [
    {
     "name": "stdout",
     "output_type": "stream",
     "text": [
      "Nested set: {frozenset({1, 2, 3, 4, 5}), frozenset({6, 7, 8, 9, 10})}\n"
     ]
    }
   ],
   "source": [
    "set1 = {1,2,3,4,5}\n",
    "set2 = {6,7,8,9,10}\n",
    "\n",
    "frozenset1 = frozenset(set1)\n",
    "frozenset2 = frozenset(set2)\n",
    "\n",
    "nested_set = {frozenset1 , frozenset2}\n",
    "\n",
    "print(\"Nested set:\", nested_set)"
   ]
  },
  {
   "cell_type": "markdown",
   "id": "afb7dd62-00f2-4169-a959-141c215862d2",
   "metadata": {},
   "source": [
    "31. Remove an element from a set using the discard method."
   ]
  },
  {
   "cell_type": "code",
   "execution_count": 11,
   "id": "edbc59f6-6f92-4434-92dc-816876caf4be",
   "metadata": {},
   "outputs": [
    {
     "name": "stdout",
     "output_type": "stream",
     "text": [
      "Initial set: {1, 2, 3, 4, 5}\n",
      "New Set: {1, 3, 4, 5}\n"
     ]
    }
   ],
   "source": [
    "my_set = {1,2,3,4,5}\n",
    "print(\"Initial set:\", my_set)\n",
    "    \n",
    "element_to_remove = 2\n",
    "\n",
    "my_set.discard(element_to_remove)\n",
    "\n",
    "print(\"New Set:\", my_set)"
   ]
  },
  {
   "cell_type": "markdown",
   "id": "006ab8f8-a9fb-44b4-a5fe-57e8b743c2cb",
   "metadata": {},
   "source": [
    "32. Compare two sets."
   ]
  },
  {
   "cell_type": "code",
   "execution_count": 18,
   "id": "1c6c3d2f-2480-41e5-8a85-aa5da446f745",
   "metadata": {},
   "outputs": [
    {
     "name": "stdout",
     "output_type": "stream",
     "text": [
      "Set 1: {1, 2, 3, 4, 5}\n",
      "Set 2: {4, 5, 6, 7, 8}\n",
      "Is set1 a subset of set2? False\n",
      "Is set2 a subset of set1? False\n",
      "Intersection: {4, 5}\n",
      "Union: {1, 2, 3, 4, 5, 6, 7, 8}\n",
      "Elements in set1 but not in set2: {1, 2, 3}\n",
      "Elements in set2 but not in set1: {8, 6, 7}\n"
     ]
    }
   ],
   "source": [
    "set1 = {1,2,3,4,5}\n",
    "set2 = {4,5,6,7,8}\n",
    "\n",
    "is_subset = set1.issubset(set2)\n",
    "\n",
    "is_superset = set1.issuperset(set2)\n",
    "\n",
    "intersection = set1.intersection(set2)\n",
    "\n",
    "union = set1.union(set2)\n",
    "\n",
    "difference1 = set1.difference(set2)\n",
    "\n",
    "difference2 = set2.difference(set1)\n",
    "\n",
    "print(\"Set 1:\", set1)\n",
    "print(\"Set 2:\", set2)\n",
    "print(\"Is set1 a subset of set2?\", is_subset)\n",
    "print(\"Is set2 a subset of set1?\", is_superset)\n",
    "print(\"Intersection:\", intersection)\n",
    "print(\"Union:\", union)\n",
    "print(\"Elements in set1 but not in set2:\", difference1)\n",
    "print(\"Elements in set2 but not in set1:\", difference2)"
   ]
  },
  {
   "cell_type": "markdown",
   "id": "5991f202-a822-4c84-8f5d-27dac895a198",
   "metadata": {},
   "source": [
    "33. Create a set from a string."
   ]
  },
  {
   "cell_type": "code",
   "execution_count": 19,
   "id": "95d52923-ad40-4bc2-b895-411f4c37bfe8",
   "metadata": {},
   "outputs": [
    {
     "name": "stdout",
     "output_type": "stream",
     "text": [
      "{'e', ' ', 'W', 'r', 'l', 'd', 'H', 'o'}\n"
     ]
    }
   ],
   "source": [
    "string1 = \"Hello World\"\n",
    "\n",
    "set1 = set(string1)\n",
    "\n",
    "print(set1)"
   ]
  },
  {
   "cell_type": "markdown",
   "id": "ffacabc1-9f78-4c9b-b020-c1ddc7f66dad",
   "metadata": {},
   "source": [
    "34. Convert a set of strings to a set of integers."
   ]
  },
  {
   "cell_type": "code",
   "execution_count": 20,
   "id": "32a72c15-1f6a-45d7-adb7-68a22d657fbf",
   "metadata": {},
   "outputs": [
    {
     "name": "stdout",
     "output_type": "stream",
     "text": [
      "Original String Set: {'123', '456', '789'}\n",
      "Converted Integer Set: {456, 123, 789}\n"
     ]
    }
   ],
   "source": [
    "string_set = {\"123\",\"456\",\"789\"}\n",
    "integer_set = set()\n",
    "\n",
    "for string in string_set:\n",
    "    integer_value = int(string)\n",
    "    \n",
    "    integer_set.add(integer_value)\n",
    "    \n",
    "print(\"Original String Set:\", string_set)\n",
    "print(\"Converted Integer Set:\", integer_set)    "
   ]
  },
  {
   "cell_type": "markdown",
   "id": "980071e7-7671-4527-8ac4-b703c232d24a",
   "metadata": {},
   "source": [
    "35. Convert a set of integers to a set of strings."
   ]
  },
  {
   "cell_type": "code",
   "execution_count": 26,
   "id": "a8710feb-5d52-4a43-a829-f7b8eb611fd0",
   "metadata": {},
   "outputs": [
    {
     "name": "stdout",
     "output_type": "stream",
     "text": [
      "Original integers_set: {1, 2, 3, 4, 5}\n",
      "Converted strings_set: {'2', '4', '5', '3', '1'}\n"
     ]
    }
   ],
   "source": [
    "integers_set = {1, 2, 3, 4, 5}\n",
    "\n",
    "strings_set = set()\n",
    "\n",
    "for num in integers_set:\n",
    "    num_str = str(num)\n",
    "    \n",
    "    strings_set.add(num_str)\n",
    "    \n",
    "print(\"Original integers_set:\", integers_set)\n",
    "print(\"Converted strings_set:\", strings_set)    "
   ]
  },
  {
   "cell_type": "markdown",
   "id": "5577a45e-371b-4d4c-9a35-575ad47a65f4",
   "metadata": {},
   "source": [
    "36. Create a set from a tuple."
   ]
  },
  {
   "cell_type": "code",
   "execution_count": 27,
   "id": "be97c18b-c263-4bf5-918d-aeebe44fab2e",
   "metadata": {},
   "outputs": [
    {
     "name": "stdout",
     "output_type": "stream",
     "text": [
      "{1, 2, 3, 4, 5}\n"
     ]
    }
   ],
   "source": [
    "input_tuple = (1, 2, 3, 2, 4, 5, 1)\n",
    "\n",
    "output_set = set(input_tuple)\n",
    "\n",
    "print(output_set)"
   ]
  },
  {
   "cell_type": "markdown",
   "id": "f4a64fdd-2b71-466c-a90d-8448eaad27db",
   "metadata": {},
   "source": [
    "37. Convert a set to a tuple."
   ]
  },
  {
   "cell_type": "code",
   "execution_count": 28,
   "id": "0165b4c4-d512-440a-a194-25e0a4269bcd",
   "metadata": {},
   "outputs": [
    {
     "name": "stdout",
     "output_type": "stream",
     "text": [
      "Original set: {1, 2, 3, 4, 5}\n",
      "Converted tuple: (1, 2, 3, 4, 5)\n"
     ]
    }
   ],
   "source": [
    "input_set = {1, 2, 3, 4, 5}\n",
    "\n",
    "output_tuple = tuple(input_set)\n",
    "\n",
    "print(\"Original set:\", input_set)\n",
    "print(\"Converted tuple:\", output_tuple)"
   ]
  },
  {
   "cell_type": "markdown",
   "id": "333c7f10-1c03-4031-888a-a53a4a0b89e4",
   "metadata": {},
   "source": [
    "38. Find the maximum value in a set."
   ]
  },
  {
   "cell_type": "code",
   "execution_count": 30,
   "id": "bb392d6d-4010-43de-90c5-b699c283b945",
   "metadata": {},
   "outputs": [
    {
     "name": "stdout",
     "output_type": "stream",
     "text": [
      "Maximum value: 22\n"
     ]
    }
   ],
   "source": [
    "my_set = {15, 7, 22, 13, 8}\n",
    "\n",
    "max_value = None\n",
    "\n",
    "for num in my_set:\n",
    "    if max_value is None or num > max_value:\n",
    "        max_value = num\n",
    "        \n",
    "print(\"Maximum value:\", max_value)        "
   ]
  },
  {
   "cell_type": "markdown",
   "id": "09f90111-f038-4f8e-be16-ec7e048965f4",
   "metadata": {},
   "source": [
    "39. Find the minimum value in a set."
   ]
  },
  {
   "cell_type": "code",
   "execution_count": 35,
   "id": "b1551dc2-7b4e-45a5-bd3d-9b2358d86f9b",
   "metadata": {},
   "outputs": [
    {
     "name": "stdout",
     "output_type": "stream",
     "text": [
      "The minimum value in the set is: 4\n"
     ]
    }
   ],
   "source": [
    "number_set = {15, 8, 23, 4, 42, 11}\n",
    "\n",
    "min_value = None\n",
    "\n",
    "for num in number_set:\n",
    "    if min_value is None or num < min_value:\n",
    "        min_value = num\n",
    "        \n",
    "print(\"The minimum value in the set is:\", min_value)        "
   ]
  },
  {
   "cell_type": "markdown",
   "id": "3a114e53-af8c-4c70-9cff-420575428914",
   "metadata": {},
   "source": [
    "40. Create a set from user input."
   ]
  },
  {
   "cell_type": "code",
   "execution_count": 36,
   "id": "98aa87f2-2b75-4bf6-879c-a5b480efca3d",
   "metadata": {},
   "outputs": [
    {
     "name": "stdout",
     "output_type": "stream",
     "text": [
      "Enter elements for the set (type 'done' to finish):\n"
     ]
    },
    {
     "name": "stdin",
     "output_type": "stream",
     "text": [
      ">  sidd\n",
      ">  raj\n",
      ">  12\n",
      ">  True, False\n",
      ">  DONE\n"
     ]
    },
    {
     "name": "stdout",
     "output_type": "stream",
     "text": [
      "Final set: {'raj', '12', 'sidd', 'True, False'}\n"
     ]
    }
   ],
   "source": [
    "user_set = set()\n",
    "\n",
    "print(\"Enter elements for the set (type 'done' to finish):\")\n",
    "while True:\n",
    "    user_input = input(\"> \")\n",
    "    \n",
    "    if user_input.lower() == 'done':\n",
    "        break\n",
    "        \n",
    "    user_set.add(user_input)\n",
    "    \n",
    "print(\"Final set:\", user_set)    "
   ]
  },
  {
   "cell_type": "markdown",
   "id": "72319b91-0c1c-416a-867d-d1e5edbc3488",
   "metadata": {},
   "source": [
    "41. Check if the intersection of two sets is empty."
   ]
  },
  {
   "cell_type": "code",
   "execution_count": 38,
   "id": "734cae0f-17a4-4770-abda-fa4864642ea3",
   "metadata": {},
   "outputs": [
    {
     "name": "stdout",
     "output_type": "stream",
     "text": [
      "the intersection has elements\n"
     ]
    }
   ],
   "source": [
    "set1 = {1, 2, 3, 4, 5}\n",
    "set2 = {4, 5, 6, 7, 8}\n",
    "\n",
    "set_itersection = set1.intersection(set2)\n",
    "\n",
    "if not set_itersection:\n",
    "    print(\"The intersection is empty\")\n",
    "else:\n",
    "    print(\"the intersection has elements\")"
   ]
  },
  {
   "cell_type": "markdown",
   "id": "cb97a31d-0d3b-48db-b84f-a2e15cc443d9",
   "metadata": {},
   "source": [
    "42. Create a set of the first 5 Fibonacci numbers."
   ]
  },
  {
   "cell_type": "code",
   "execution_count": 39,
   "id": "0ce9e2cb-8424-47d3-8d4c-6e07a4628639",
   "metadata": {},
   "outputs": [
    {
     "name": "stdout",
     "output_type": "stream",
     "text": [
      "Set of the first 5 Fibonacci numbers: {0, 1, 2, 3, 5}\n"
     ]
    }
   ],
   "source": [
    "fibonacci_set = set()\n",
    "\n",
    "a, b = 0, 1\n",
    "\n",
    "for _ in range(6):\n",
    "    fibonacci_set.add(a)\n",
    "    \n",
    "    a, b = b, a+b\n",
    "    \n",
    "print(\"Set of the first 5 Fibonacci numbers:\", fibonacci_set)    \n",
    "    \n",
    "    "
   ]
  },
  {
   "cell_type": "markdown",
   "id": "507204e2-3c5f-4a3a-898b-8a44d8519554",
   "metadata": {},
   "source": [
    "43. Remove duplicates from a list using sets."
   ]
  },
  {
   "cell_type": "code",
   "execution_count": 42,
   "id": "91f58185-bd21-4a23-a2a1-41833866bd29",
   "metadata": {},
   "outputs": [
    {
     "name": "stdout",
     "output_type": "stream",
     "text": [
      "<class 'list'>\n",
      "[2, 4, 6, 8, 10, 12, 14]\n"
     ]
    }
   ],
   "source": [
    "original_list = [2, 4, 6, 8, 4, 10, 6, 12, 14, 8]\n",
    "\n",
    "new_set = list(set(original_list))\n",
    "\n",
    "print(type(new_set))\n",
    "print(new_set)"
   ]
  },
  {
   "cell_type": "markdown",
   "id": "c2b028ab-2fdd-4170-8bdd-d31f33d3ace6",
   "metadata": {},
   "source": [
    "44. Check if two sets have the same elements, regardless of their count."
   ]
  },
  {
   "cell_type": "code",
   "execution_count": 43,
   "id": "da724d3f-f82b-46c3-b7d6-60d0afe38ff8",
   "metadata": {},
   "outputs": [
    {
     "name": "stdout",
     "output_type": "stream",
     "text": [
      "The sets have the same elements.\n"
     ]
    }
   ],
   "source": [
    "def have_same_elements(set1, set2):\n",
    "    sorted_list1 = sorted(list(set1))\n",
    "    sorted_list2 = sorted(list(set2))\n",
    "    \n",
    "    return sorted_list1 == sorted_list2\n",
    "\n",
    "set1 = {1, 2, 3, 2, 1}\n",
    "set2 = {3, 1, 2}\n",
    "\n",
    "result = have_same_elements(set1, set2)\n",
    "\n",
    "if result:\n",
    "    print(\"The sets have the same elements.\")\n",
    "else:\n",
    "    print(\"The sets do not have the same elements.\")    \n",
    "    "
   ]
  },
  {
   "cell_type": "markdown",
   "id": "83426f46-a53e-49da-a102-794fc392fcda",
   "metadata": {},
   "source": [
    "45. Create a set of the first `n` powers of 2."
   ]
  },
  {
   "cell_type": "code",
   "execution_count": 48,
   "id": "539af2d2-9b3e-4c05-8651-3512b35baefa",
   "metadata": {},
   "outputs": [
    {
     "name": "stdout",
     "output_type": "stream",
     "text": [
      "{1, 2, 4, 8, 16}\n"
     ]
    }
   ],
   "source": [
    "def generate_powers_of_2(n):\n",
    "    powers_of_2 = set()    \n",
    "    for i in range(n):        \n",
    "        power = 2 ** i      \n",
    "        powers_of_2.add(power)\n",
    "    return powers_of_2\n",
    "n=5\n",
    "\n",
    "powers_set = generate_powers_of_2(n)\n",
    "\n",
    "print(powers_set)"
   ]
  },
  {
   "cell_type": "markdown",
   "id": "c3ea14f8-0b35-4361-a252-7fda33caf155",
   "metadata": {},
   "source": [
    "46. Find the common elements between a set and a list."
   ]
  },
  {
   "cell_type": "code",
   "execution_count": 50,
   "id": "d18e0423-d030-4121-91a3-9acef76eb958",
   "metadata": {},
   "outputs": [
    {
     "name": "stdout",
     "output_type": "stream",
     "text": [
      "Common elements: [7, 9, 12]\n"
     ]
    }
   ],
   "source": [
    "my_set = {3, 7, 9, 12, 15}\n",
    "my_list = [7, 12, 5, 9]\n",
    "\n",
    "list_to_set = set(my_list)\n",
    "\n",
    "common_element = []\n",
    "\n",
    "for element in my_set:\n",
    "    if element in list_to_set:\n",
    "        common_element.append(element)\n",
    "        \n",
    "print(\"Common elements:\", common_element)        "
   ]
  },
  {
   "cell_type": "markdown",
   "id": "9dcf9b27-e8c5-4dfb-85ef-26e1b4e5808a",
   "metadata": {},
   "source": [
    "47. Create a set of the first `n` triangular numbers."
   ]
  },
  {
   "cell_type": "code",
   "execution_count": 54,
   "id": "0712940f-9e6a-4bee-9bd1-69a06aef20ad",
   "metadata": {},
   "outputs": [
    {
     "name": "stdin",
     "output_type": "stream",
     "text": [
      "Enter the value of n:  3\n"
     ]
    },
    {
     "name": "stdout",
     "output_type": "stream",
     "text": [
      "The set of the first 3 triangular numbers is: {1, 3, 6}\n"
     ]
    }
   ],
   "source": [
    "def generate_triangular_numbers(n):\n",
    "    triangular_numbers = set()\n",
    "    for i in range(1 , n+1):\n",
    "        triangular_number = i * (i + 1) // 2\n",
    "        triangular_numbers.add(triangular_number)\n",
    "    return triangular_numbers\n",
    "\n",
    "n = int(input(\"Enter the value of n: \"))\n",
    "triangular_set = generate_triangular_numbers(n)\n",
    "print(f\"The set of the first {n} triangular numbers is:\", triangular_set)\n",
    "    "
   ]
  },
  {
   "cell_type": "markdown",
   "id": "ba7c2f67-4b2c-46fb-bb73-4fbb63610cf7",
   "metadata": {},
   "source": [
    "48. Check if a set contains another set as a subset."
   ]
  },
  {
   "cell_type": "code",
   "execution_count": 55,
   "id": "f8382731-3fa5-4be9-b22d-c80dde74137f",
   "metadata": {},
   "outputs": [
    {
     "name": "stdout",
     "output_type": "stream",
     "text": [
      "set2 is subset of set1\n"
     ]
    }
   ],
   "source": [
    "set1 = {1, 2, 3, 4, 5}\n",
    "set2 = {3, 4}\n",
    "is_subset = set2.issubset(set1)\n",
    "\n",
    "if is_subset:\n",
    "    print(\"set2 is subset of set1\")\n",
    "else:\n",
    "    print(\"set2 is not subset of set1\")\n",
    "    "
   ]
  },
  {
   "cell_type": "markdown",
   "id": "988c4e26-893f-405f-ba7e-e141e1420a71",
   "metadata": {},
   "source": [
    "49. Create a set of alternating 1s and 0s of length `n`."
   ]
  },
  {
   "cell_type": "code",
   "execution_count": 57,
   "id": "c82cb0fe-df9f-4e0a-afed-50a12a0fded9",
   "metadata": {},
   "outputs": [
    {
     "name": "stdout",
     "output_type": "stream",
     "text": [
      "{0, 1}\n"
     ]
    }
   ],
   "source": [
    "def create_alternating_set(n):\n",
    "    alternating_set = set()\n",
    "    \n",
    "    for i in range(n):\n",
    "        if i % 2 == 0:\n",
    "            alternating_set.add(1)\n",
    "        else:\n",
    "            alternating_set.add(0)\n",
    "    return alternating_set\n",
    "\n",
    "length_n = 10\n",
    "\n",
    "result = create_alternating_set(length_n)\n",
    "\n",
    "print(result)\n",
    "            "
   ]
  },
  {
   "cell_type": "markdown",
   "id": "1aa393e9-da94-4250-9989-d4349cf5af1a",
   "metadata": {},
   "source": [
    "50. Merge multiple sets into one."
   ]
  },
  {
   "cell_type": "code",
   "execution_count": 59,
   "id": "8aa014cf-d69f-451c-8340-27c6a0d22c30",
   "metadata": {},
   "outputs": [
    {
     "name": "stdout",
     "output_type": "stream",
     "text": [
      "Merged Set: {1, 2, 3, 4, 5, 6, 7}\n"
     ]
    }
   ],
   "source": [
    "set1 = {1, 2, 3}\n",
    "set2 = {3, 4, 5}\n",
    "set3 = {5, 6, 7}\n",
    "\n",
    "set_union = set1.union(set2, set3)\n",
    "\n",
    "print(\"Merged Set:\", set_union)"
   ]
  },
  {
   "cell_type": "code",
   "execution_count": null,
   "id": "d994a85c-c923-486f-bc7c-cf09f14154b3",
   "metadata": {},
   "outputs": [],
   "source": []
  }
 ],
 "metadata": {
  "kernelspec": {
   "display_name": "Python 3 (ipykernel)",
   "language": "python",
   "name": "python3"
  },
  "language_info": {
   "codemirror_mode": {
    "name": "ipython",
    "version": 3
   },
   "file_extension": ".py",
   "mimetype": "text/x-python",
   "name": "python",
   "nbconvert_exporter": "python",
   "pygments_lexer": "ipython3",
   "version": "3.10.8"
  }
 },
 "nbformat": 4,
 "nbformat_minor": 5
}
